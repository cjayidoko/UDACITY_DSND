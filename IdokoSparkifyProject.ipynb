{
 "cells": [
  {
   "cell_type": "markdown",
   "metadata": {},
   "source": [
    "# Sparkify Project Workspace\n"
   ]
  },
  {
   "cell_type": "markdown",
   "metadata": {},
   "source": [
    "## Import the needed tools"
   ]
  },
  {
   "cell_type": "code",
   "execution_count": 1,
   "metadata": {},
   "outputs": [],
   "source": [
    "# import libraries\n",
    "from pyspark.sql import SparkSession\n",
    "from pyspark.sql.functions import avg, col, concat, desc, explode, lit, min, max, split, udf\n",
    "from pyspark.sql.types import IntegerType\n",
    "\n",
    "from pyspark.ml import Pipeline, PipelineModel\n",
    "from pyspark.ml.classification import LogisticRegression, DecisionTreeClassifier, RandomForestClassifier, GBTClassifier, NaiveBayes\n",
    "from pyspark.ml.evaluation import MulticlassClassificationEvaluator, BinaryClassificationEvaluator, RegressionEvaluator\n",
    "from pyspark.ml.feature import CountVectorizer, IDF, Normalizer, PCA, RegexTokenizer, StandardScaler, StopWordsRemover, StringIndexer, VectorAssembler\n",
    "from pyspark.ml.regression import LinearRegression\n",
    "from pyspark.ml.tuning import CrossValidator, ParamGridBuilder\n",
    "\n",
    "from pyspark.ml.feature import PCA\n",
    "from pyspark.ml.linalg import Vectors\n",
    "import re\n",
    "import datetime\n",
    "\n",
    "import numpy as np\n",
    "import pandas as pd\n",
    "%matplotlib inline\n",
    "import matplotlib.pyplot as plt\n",
    "from matplotlib import pyplot\n",
    "from pyspark.sql.functions import *\n",
    "\n",
    "import random\n",
    "\n",
    "from pyspark.sql import Row\n",
    "\n",
    "from sklearn import neighbors"
   ]
  },
  {
   "cell_type": "code",
   "execution_count": 2,
   "metadata": {},
   "outputs": [],
   "source": [
    "# create a Spark session\n",
    "spark = SparkSession.builder \\\n",
    "    .master(\"local\") \\\n",
    "    .config(\"spark.driver.memory\", \"15g\") \\\n",
    "    .appName(\"Creating Features\") \\\n",
    "    .getOrCreate()\n",
    "\n",
    "sc = spark.sparkContext"
   ]
  },
  {
   "cell_type": "markdown",
   "metadata": {},
   "source": [
    "## 1.INTRODUCTION"
   ]
  },
  {
   "cell_type": "markdown",
   "metadata": {},
   "source": [
    "The current wave of digitization sweeping across industries has led to explosion of data, as information is being tracked using different tools. This, together with the advent of social media has greatly emboldened the inclination and match towards artificial intelligence. This is grounded on the ability to obtain insights from the massive amounts of data obtained sometimes in real times while powering products that rely on such data. Technologies to wrangle such big data are currently being championed by Apache Hadoop and Spark. One single computer is not able to handle such massive datasets, and calls for multiple computers which can be hosted online using computing platforms such as Amazon Web Services (AWS), Microsoft Azure, IBM Watson, and Google Cloud. This brings to the goal of this write up which will apply a big data technology (Spark) to a subset (128 MB)\n",
    "of a larger dataset of about 12GB.\n",
    "\n",
    "The dataset here is from Udacity for a pseudo-music streaming service called 'Sparkify' where users have been using either as guests, free, or paid levels. Some of the users, after using the service for a while as paid subscribers end up cancelling their subscription. The goal is therefore to be able to predict the churn of such users which here is defined as when a user is tracked in the 'Cancel Confirmation' page, using the different features measured while the user has been using the platform. The end product of this project would be a model that can be deployed on the sparkify app/platform to predict if a given user stand a chance of cancelling their subscription, and then move swiftly to prevent such case.\n",
    "\n",
    "The prediction of churn users for the sparkify dataset will be handled using machine learning technques. First of all, the dataset will be explored to obtain quality insights into the behaviour of the users/subscribers. Then features will be engineered that most strongly explain the behaviours. This will be followed by modellng which will involve first defining a baseline model, and working to improve this baseline model. As such, metrics perculier to classification tasks will be used. Such metrics as Fscore and accuracy will be used to measure the perfromance of the different models while working to improve them. \n",
    "\n",
    "F1-score in particular was used as the deciding metric. F1 is defined as the harmonic mean of the precision and recall. Remember that precision is a measure of true positives over all positive predictions, while recall is a measure of true positive predictions over all positive labels. Hence F1-score was used to capture how well the model can distinguish between the two classes in its predictions, while quantifying the prediction of positves (defined here as churn or label == 1). This is against accuracy which will not capture how well the prediction was made for users who will cancel their subscription"
   ]
  },
  {
   "cell_type": "code",
   "execution_count": 3,
   "metadata": {},
   "outputs": [
    {
     "data": {
      "text/plain": [
       "DataFrame[artist: string, auth: string, firstName: string, gender: string, itemInSession: bigint, lastName: string, length: double, level: string, location: string, method: string, page: string, registration: bigint, sessionId: bigint, song: string, status: bigint, ts: bigint, userAgent: string, userId: string]"
      ]
     },
     "execution_count": 3,
     "metadata": {},
     "output_type": "execute_result"
    }
   ],
   "source": [
    "def load_data(path):\n",
    "    '''\n",
    "    Function to load a data into a spark dataframe using path of a json dataset.\n",
    "    Args:\n",
    "        path- the path where the data is stored\n",
    "    Returns:\n",
    "        A dataframe of the dataset.\n",
    "    '''\n",
    "    path = path\n",
    "    return spark.read.json(path)\n",
    "\n",
    "\n",
    "df = load_data('mini_sparkify_event_data.json')\n",
    "df.persist()"
   ]
  },
  {
   "cell_type": "code",
   "execution_count": 4,
   "metadata": {},
   "outputs": [
    {
     "data": {
      "text/plain": [
       "286500"
      ]
     },
     "execution_count": 4,
     "metadata": {},
     "output_type": "execute_result"
    }
   ],
   "source": [
    "#Size of dataset\n",
    "\n",
    "df.count()"
   ]
  },
  {
   "cell_type": "markdown",
   "metadata": {},
   "source": [
    "## 2. BUSINESS AND DATA UNDERSTANDING"
   ]
  },
  {
   "cell_type": "markdown",
   "metadata": {},
   "source": [
    " Take a look at the descriptive statistics of the dataframe"
   ]
  },
  {
   "cell_type": "code",
   "execution_count": 5,
   "metadata": {},
   "outputs": [
    {
     "name": "stdout",
     "output_type": "stream",
     "text": [
      "+-------+------------------+----------+---------+------+------------------+--------+-----------------+------+-----------------+------+-------+--------------------+-----------------+--------------------+------------------+--------------------+--------------------+-----------------+\n",
      "|summary|            artist|      auth|firstName|gender|     itemInSession|lastName|           length| level|         location|method|   page|        registration|        sessionId|                song|            status|                  ts|           userAgent|           userId|\n",
      "+-------+------------------+----------+---------+------+------------------+--------+-----------------+------+-----------------+------+-------+--------------------+-----------------+--------------------+------------------+--------------------+--------------------+-----------------+\n",
      "|  count|            228108|    286500|   278154|278154|            286500|  278154|           228108|286500|           278154|286500| 286500|              278154|           286500|              228108|            286500|              286500|              278154|           286500|\n",
      "|   mean| 551.0852017937219|      null|     null|  null|114.41421291448516|    null|249.1171819778458|  null|             null|  null|   null|1.535358834084427...|1041.526554973822|            Infinity|210.05459685863875|1.540956889810483...|                null|59682.02278593872|\n",
      "| stddev|1217.7693079161374|      null|     null|  null|129.76726201140994|    null|99.23517921058361|  null|             null|  null|   null| 3.291321616327586E9|726.7762634630741|                 NaN| 31.50507848842214|1.5075439608226302E9|                null|109091.9499991047|\n",
      "|    min|               !!!| Cancelled| Adelaida|     F|                 0|   Adams|          0.78322|  free|       Albany, OR|   GET|  About|       1521380675000|                1|\u001c",
      "ÃÂg ÃÂtti Gr...|               200|       1538352117000|\"Mozilla/5.0 (Mac...|                 |\n",
      "|    max| ÃÂlafur Arnalds|Logged Out|   Zyonna|     M|              1321|  Wright|       3024.66567|  paid|Winston-Salem, NC|   PUT|Upgrade|       1543247354000|             2474|ÃÂau hafa slopp...|               404|       1543799476000|Mozilla/5.0 (comp...|               99|\n",
      "+-------+------------------+----------+---------+------+------------------+--------+-----------------+------+-----------------+------+-------+--------------------+-----------------+--------------------+------------------+--------------------+--------------------+-----------------+\n",
      "\n"
     ]
    }
   ],
   "source": [
    "df.describe().show()"
   ]
  },
  {
   "cell_type": "code",
   "execution_count": 4,
   "metadata": {},
   "outputs": [
    {
     "name": "stdout",
     "output_type": "stream",
     "text": [
      "root\n",
      " |-- artist: string (nullable = true)\n",
      " |-- auth: string (nullable = true)\n",
      " |-- firstName: string (nullable = true)\n",
      " |-- gender: string (nullable = true)\n",
      " |-- itemInSession: long (nullable = true)\n",
      " |-- lastName: string (nullable = true)\n",
      " |-- length: double (nullable = true)\n",
      " |-- level: string (nullable = true)\n",
      " |-- location: string (nullable = true)\n",
      " |-- method: string (nullable = true)\n",
      " |-- page: string (nullable = true)\n",
      " |-- registration: long (nullable = true)\n",
      " |-- sessionId: long (nullable = true)\n",
      " |-- song: string (nullable = true)\n",
      " |-- status: long (nullable = true)\n",
      " |-- ts: long (nullable = true)\n",
      " |-- userAgent: string (nullable = true)\n",
      " |-- userId: string (nullable = true)\n",
      "\n"
     ]
    }
   ],
   "source": [
    "df.printSchema()"
   ]
  },
  {
   "cell_type": "markdown",
   "metadata": {},
   "source": [
    "Find out where userids are null or non existent"
   ]
  },
  {
   "cell_type": "code",
   "execution_count": 9,
   "metadata": {},
   "outputs": [
    {
     "data": {
      "text/plain": [
       "0"
      ]
     },
     "execution_count": 9,
     "metadata": {},
     "output_type": "execute_result"
    }
   ],
   "source": [
    "df.select(\"*\").where(col(\"userId\").isNull()).count()"
   ]
  },
  {
   "cell_type": "code",
   "execution_count": 10,
   "metadata": {},
   "outputs": [
    {
     "data": {
      "text/plain": [
       "0"
      ]
     },
     "execution_count": 10,
     "metadata": {},
     "output_type": "execute_result"
    }
   ],
   "source": [
    "df.select(\"*\").where(col(\"sessionId\").isNull()).count()"
   ]
  },
  {
   "cell_type": "code",
   "execution_count": 6,
   "metadata": {},
   "outputs": [
    {
     "name": "stdout",
     "output_type": "stream",
     "text": [
      "+------+-----+\n",
      "|userId|count|\n",
      "+------+-----+\n",
      "|100010|  381|\n",
      "|200002|  474|\n",
      "|   125|   11|\n",
      "|    51| 2464|\n",
      "+------+-----+\n",
      "only showing top 4 rows\n",
      "\n"
     ]
    }
   ],
   "source": [
    "#Used this to take a look at all possible user ids and found empty #string users\n",
    "\n",
    "df.select('userId').groupby('userId').count().show(4) "
   ]
  },
  {
   "cell_type": "code",
   "execution_count": 19,
   "metadata": {},
   "outputs": [
    {
     "data": {
      "text/plain": [
       "8346"
      ]
     },
     "execution_count": 19,
     "metadata": {},
     "output_type": "execute_result"
    }
   ],
   "source": [
    "df.select(\"userId\").where(col(\"userId\")=='').count()"
   ]
  },
  {
   "cell_type": "code",
   "execution_count": 22,
   "metadata": {},
   "outputs": [],
   "source": [
    "#Check to see if these are just invalid data or has correlation with users being logged in or out."
   ]
  },
  {
   "cell_type": "code",
   "execution_count": 28,
   "metadata": {},
   "outputs": [
    {
     "data": {
      "text/plain": [
       "0"
      ]
     },
     "execution_count": 28,
     "metadata": {},
     "output_type": "execute_result"
    }
   ],
   "source": [
    "df.select(\"userId\",'auth').where(col(\"userId\")=='').where(col('auth') == 'Logged In').count()"
   ]
  },
  {
   "cell_type": "code",
   "execution_count": 35,
   "metadata": {},
   "outputs": [
    {
     "data": {
      "text/plain": [
       "[Row(auth='Logged Out', count=8249),\n",
       " Row(auth='Cancelled', count=52),\n",
       " Row(auth='Guest', count=97),\n",
       " Row(auth='Logged In', count=278102)]"
      ]
     },
     "execution_count": 35,
     "metadata": {},
     "output_type": "execute_result"
    }
   ],
   "source": [
    "#Find out the different categories of the column 'auth'\n",
    "\n",
    "\n",
    "df.select('auth').groupby('auth').count().collect()"
   ]
  },
  {
   "cell_type": "code",
   "execution_count": 39,
   "metadata": {},
   "outputs": [
    {
     "data": {
      "text/plain": [
       "[Row(level='free', count=58338), Row(level='paid', count=228162)]"
      ]
     },
     "execution_count": 39,
     "metadata": {},
     "output_type": "execute_result"
    }
   ],
   "source": [
    "#Find out the different categories of the column 'auth'\n",
    "df.select('level').groupby('level').count().collect()"
   ]
  },
  {
   "cell_type": "code",
   "execution_count": 5,
   "metadata": {},
   "outputs": [
    {
     "data": {
      "text/plain": [
       "8346"
      ]
     },
     "execution_count": 5,
     "metadata": {},
     "output_type": "execute_result"
    }
   ],
   "source": [
    "df.select(\"userId\",'auth').where(col(\"userId\")=='').where(col('auth').isin(['Guest', 'Logged Out'])).count()"
   ]
  },
  {
   "cell_type": "code",
   "execution_count": 6,
   "metadata": {},
   "outputs": [
    {
     "data": {
      "text/plain": [
       "226"
      ]
     },
     "execution_count": 6,
     "metadata": {},
     "output_type": "execute_result"
    }
   ],
   "source": [
    "#How many distinct users \n",
    "\n",
    "df.select('userId').distinct().count()"
   ]
  },
  {
   "cell_type": "markdown",
   "metadata": {},
   "source": [
    "###### Looks like the only empty userIds are where the users are either Logged out or simply guests who have not registered."
   ]
  },
  {
   "cell_type": "code",
   "execution_count": 32,
   "metadata": {},
   "outputs": [
    {
     "data": {
      "text/plain": [
       "8346"
      ]
     },
     "execution_count": 32,
     "metadata": {},
     "output_type": "execute_result"
    }
   ],
   "source": [
    "8249+97"
   ]
  },
  {
   "cell_type": "code",
   "execution_count": 109,
   "metadata": {},
   "outputs": [
    {
     "data": {
      "text/plain": [
       "2354"
      ]
     },
     "execution_count": 109,
     "metadata": {},
     "output_type": "execute_result"
    }
   ],
   "source": [
    "df.select('sessionId').distinct().count()"
   ]
  },
  {
   "cell_type": "code",
   "execution_count": 7,
   "metadata": {},
   "outputs": [
    {
     "data": {
      "text/plain": [
       "[Row(summary='count', userId='286500'),\n",
       " Row(summary='mean', userId='59682.02278593872'),\n",
       " Row(summary='stddev', userId='109091.9499991047'),\n",
       " Row(summary='min', userId=''),\n",
       " Row(summary='max', userId='99')]"
      ]
     },
     "execution_count": 7,
     "metadata": {},
     "output_type": "execute_result"
    }
   ],
   "source": [
    "df.select('userId').describe().collect()"
   ]
  },
  {
   "cell_type": "code",
   "execution_count": 45,
   "metadata": {},
   "outputs": [
    {
     "name": "stdout",
     "output_type": "stream",
     "text": [
      "[Row(max(sessionId)=2474)]\n",
      "[Row(min(sessionId)=1)]\n"
     ]
    }
   ],
   "source": [
    "#maximum and minimum value of sessionId\n",
    "print(df.agg(max(col('sessionId'))).collect())\n",
    "print(df.agg(min(col('sessionId'))).collect())"
   ]
  },
  {
   "cell_type": "code",
   "execution_count": 56,
   "metadata": {},
   "outputs": [
    {
     "data": {
      "text/plain": [
       "DataFrame[artist: string, auth: string, firstName: string, gender: string, itemInSession: bigint, lastName: string, length: double, level: string, location: string, method: string, page: string, registration: bigint, sessionId: bigint, song: string, status: bigint, ts: bigint, userAgent: string, userId: string]"
      ]
     },
     "execution_count": 56,
     "metadata": {},
     "output_type": "execute_result"
    }
   ],
   "source": [
    "df.persist()"
   ]
  },
  {
   "cell_type": "code",
   "execution_count": null,
   "metadata": {},
   "outputs": [],
   "source": []
  },
  {
   "cell_type": "code",
   "execution_count": 63,
   "metadata": {},
   "outputs": [],
   "source": [
    "#Used this to take a look at all possible 'userAgent'\n",
    "#df.select('userAgent').groupby('userAgent').count().collect()"
   ]
  },
  {
   "cell_type": "code",
   "execution_count": 74,
   "metadata": {},
   "outputs": [],
   "source": [
    "#Used this to take a look at all possible 'ItemInSession'\n",
    "#df.select('ItemInSession').groupby('ItemInSession').count().collect()"
   ]
  },
  {
   "cell_type": "code",
   "execution_count": 69,
   "metadata": {},
   "outputs": [
    {
     "data": {
      "text/plain": [
       "[Row(summary='count', ItemInSession='286500'),\n",
       " Row(summary='mean', ItemInSession='114.41421291448516'),\n",
       " Row(summary='stddev', ItemInSession='129.76726201140994'),\n",
       " Row(summary='min', ItemInSession='0'),\n",
       " Row(summary='max', ItemInSession='1321')]"
      ]
     },
     "execution_count": 69,
     "metadata": {},
     "output_type": "execute_result"
    }
   ],
   "source": [
    "df.select('ItemInSession').describe().collect()"
   ]
  },
  {
   "cell_type": "code",
   "execution_count": null,
   "metadata": {},
   "outputs": [],
   "source": [
    "#The different levels used in streaming by users."
   ]
  },
  {
   "cell_type": "code",
   "execution_count": 75,
   "metadata": {},
   "outputs": [
    {
     "data": {
      "text/plain": [
       "[Row(level='free', count=58338), Row(level='paid', count=228162)]"
      ]
     },
     "execution_count": 75,
     "metadata": {},
     "output_type": "execute_result"
    }
   ],
   "source": [
    "df.select('level').groupby('level').count().collect()"
   ]
  },
  {
   "cell_type": "markdown",
   "metadata": {},
   "source": [
    "#### Define Churn:\n",
    "as users who landed on the page 'Cancellation Confirmation'"
   ]
  },
  {
   "cell_type": "code",
   "execution_count": 8,
   "metadata": {},
   "outputs": [
    {
     "name": "stdout",
     "output_type": "stream",
     "text": [
      "+----------------+---------+---------+------+-------------+--------+---------+-----+--------------------+------+--------+-------------+---------+--------------------+------+-------------+--------------------+------+-----+\n",
      "|          artist|     auth|firstName|gender|itemInSession|lastName|   length|level|            location|method|    page| registration|sessionId|                song|status|           ts|           userAgent|userId|Churn|\n",
      "+----------------+---------+---------+------+-------------+--------+---------+-----+--------------------+------+--------+-------------+---------+--------------------+------+-------------+--------------------+------+-----+\n",
      "|  Martha Tilston|Logged In|    Colin|     M|           50| Freeman|277.89016| paid|     Bakersfield, CA|   PUT|NextSong|1538173362000|       29|           Rockpools|   200|1538352117000|Mozilla/5.0 (Wind...|    30|    0|\n",
      "|Five Iron Frenzy|Logged In|    Micah|     M|           79|    Long|236.09424| free|Boston-Cambridge-...|   PUT|NextSong|1538331630000|        8|              Canada|   200|1538352180000|\"Mozilla/5.0 (Win...|     9|    0|\n",
      "|    Adam Lambert|Logged In|    Colin|     M|           51| Freeman| 282.8273| paid|     Bakersfield, CA|   PUT|NextSong|1538173362000|       29|   Time For Miracles|   200|1538352394000|Mozilla/5.0 (Wind...|    30|    0|\n",
      "|          Enigma|Logged In|    Micah|     M|           80|    Long|262.71302| free|Boston-Cambridge-...|   PUT|NextSong|1538331630000|        8|Knocking On Forbi...|   200|1538352416000|\"Mozilla/5.0 (Win...|     9|    0|\n",
      "|       Daft Punk|Logged In|    Colin|     M|           52| Freeman|223.60771| paid|     Bakersfield, CA|   PUT|NextSong|1538173362000|       29|Harder Better Fas...|   200|1538352676000|Mozilla/5.0 (Wind...|    30|    0|\n",
      "+----------------+---------+---------+------+-------------+--------+---------+-----+--------------------+------+--------+-------------+---------+--------------------+------+-------------+--------------------+------+-----+\n",
      "only showing top 5 rows\n",
      "\n"
     ]
    }
   ],
   "source": [
    "df.show(5)"
   ]
  },
  {
   "cell_type": "markdown",
   "metadata": {},
   "source": [
    "#### Behaviour Analysis:\n",
    "* Now, I want to explore the behaviour of these two groups of users to find out the actions that may have preceeded their\n",
    "    decision to cancel their subscription."
   ]
  },
  {
   "cell_type": "code",
   "execution_count": 6,
   "metadata": {},
   "outputs": [
    {
     "name": "stdout",
     "output_type": "stream",
     "text": [
      "The number of churned users is: 52\n",
      "The number of staying users is: 173\n"
     ]
    }
   ],
   "source": [
    "def prepare_data(df):\n",
    "    \n",
    "    '''\n",
    "    Function to prepare the given dataframe and divid into groups of churn and non churn \n",
    "    users while returnng the original datafrme with a new label column into a spark dataframe.\n",
    "    Args:\n",
    "        df- the original dataframe\n",
    "    Returns:\n",
    "        df -  dataframe of the dataset with new column of churn added\n",
    "        stayed -  dataframe of the non -churn user's activities only.\n",
    "        all_cancelled -  dataframe of the churn user's activities only.\n",
    "    '''\n",
    "    \n",
    "    #Define a udf for cancelled\n",
    "    canceled = udf(lambda x: 1 if x == 'Cancellation Confirmation' else 0)\n",
    "    \n",
    "    #define a new column 'churn' where 1 indicates cancellation of subscription, 0 otherwise\n",
    "    df = df.withColumn('Churn', canceled(df.page))\n",
    "    \n",
    "    \n",
    "    #Dataframe of all that cancelled\n",
    "    cancelled_df = df.select('page', 'userId','Churn').where(col('churn')==1)\n",
    "    #List of cancelled\n",
    "    list_cancelled = cancelled_df.select('userId').distinct().collect()#list of cancelled users\n",
    "    \n",
    "    #Put in a list format\n",
    "    gb = []#temporary variable to store lists\n",
    "    for row in list_cancelled:\n",
    "        gb.append(row[0])\n",
    "    canc_list = [x for x in gb if x != '']#remove the invalid users\n",
    "    #Total number of users who canceled\n",
    "    print(f\"The number of churned users is: {len(canc_list)}\")\n",
    "    \n",
    "    #List of staying users\n",
    "    all_users = df.select('userId').distinct().collect()\n",
    "    gh = []#a temporary variable to store all users\n",
    "    \n",
    "    for row in all_users:\n",
    "        gh.append(row[0])\n",
    "    stayed_list = set(gh)-set(gb)#list of users staying\n",
    "    stayed_list = [x for x in stayed_list if x != '']#remove the invalid users\n",
    "        \n",
    "    #Total number of users who did not cancel\n",
    "    print(f\"The number of staying users is: {len(stayed_list)}\")\n",
    "    \n",
    "    #Store both canceled and staying users in new dataframes containng all actions they undertook\n",
    "    all_cancelled = df.select(\"*\").where(col('userId').isin(canc_list))\n",
    "    stayed = df.select('*').where(col('userId').isin(stayed_list))\n",
    "    \n",
    "    #Redefine a udf for churn\n",
    "    churned = udf(lambda x: 0 if x in stayed_list else 1, IntegerType())\n",
    "    #Creat new column which will be our label column to track all users that eventually cancelled their subscription\n",
    "    df = df.withColumn('label', churned(col('userId')))\n",
    "    \n",
    "    return df, stayed, all_cancelled\n",
    "\n",
    "#prepare_data(df)\n",
    "df, stayed, all_cancelled = prepare_data(df)"
   ]
  },
  {
   "cell_type": "code",
   "execution_count": 7,
   "metadata": {},
   "outputs": [
    {
     "data": {
      "text/plain": [
       "DataFrame[artist: string, auth: string, firstName: string, gender: string, itemInSession: bigint, lastName: string, length: double, level: string, location: string, method: string, page: string, registration: bigint, sessionId: bigint, song: string, status: bigint, ts: bigint, userAgent: string, userId: string, Churn: string]"
      ]
     },
     "execution_count": 7,
     "metadata": {},
     "output_type": "execute_result"
    }
   ],
   "source": [
    "all_cancelled.persist()"
   ]
  },
  {
   "cell_type": "code",
   "execution_count": 8,
   "metadata": {},
   "outputs": [
    {
     "data": {
      "text/plain": [
       "DataFrame[artist: string, auth: string, firstName: string, gender: string, itemInSession: bigint, lastName: string, length: double, level: string, location: string, method: string, page: string, registration: bigint, sessionId: bigint, song: string, status: bigint, ts: bigint, userAgent: string, userId: string, Churn: string, label: int]"
      ]
     },
     "execution_count": 8,
     "metadata": {},
     "output_type": "execute_result"
    }
   ],
   "source": [
    "df.persist()"
   ]
  },
  {
   "cell_type": "code",
   "execution_count": 9,
   "metadata": {},
   "outputs": [
    {
     "name": "stdout",
     "output_type": "stream",
     "text": [
      "Below is a size of the two groups of users among the full dataset:\n",
      "Cancelled Users: 44864\n",
      "Stayed Users: 233290\n"
     ]
    }
   ],
   "source": [
    "# Total Number of streams for each group\n",
    "\n",
    "print('Below is a size of the two groups of users among the full dataset:')\n",
    "print('Cancelled Users:', all_cancelled.count())\n",
    "print('Stayed Users:', stayed.count())"
   ]
  },
  {
   "cell_type": "markdown",
   "metadata": {},
   "source": [
    "The above show that users who stayed appear to be more sampled than users who cancelled. This leaves us with an imbalanced dataset and bias against the churn users. This will ulitmately affect our modelling"
   ]
  },
  {
   "cell_type": "markdown",
   "metadata": {},
   "source": [
    "#### Downgrade page visits:"
   ]
  },
  {
   "cell_type": "code",
   "execution_count": 18,
   "metadata": {},
   "outputs": [],
   "source": [
    "#Obtain a dataframe of label and how many times they visited the downgrade page\n",
    "\n",
    "downgrades = df.select('label','page').where(col('page')=='Downgrade').groupby('label').count()\n",
    "\n",
    "#Compute percentage of downgrade visits/events to all events by each group\n",
    "\n",
    "downgrades_df = pd.DataFrame({'1':(downgrades.select('count').collect()[0][0]/all_cancelled.count())*100,\n",
    "                     '0':(downgrades.select('count').collect()[1][0]/stayed.count())*100}, index = [1])"
   ]
  },
  {
   "cell_type": "code",
   "execution_count": 19,
   "metadata": {},
   "outputs": [
    {
     "data": {
      "image/png": "[encoded data removed]",
      "text/plain": [
       "<matplotlib.figure.Figure at 0x7f21e34bdc18>"
      ]
     },
     "metadata": {
      "needs_background": "light"
     },
     "output_type": "display_data"
    }
   ],
   "source": [
    "#Visualization\n",
    "\n",
    "\n",
    "downgrades_df.plot(kind = 'bar', figsize = (8,5))\n",
    "plt.ylabel('% of Downgrades to all events')\n",
    "plt.xlabel('Cancelled and non cancelled users')\n",
    "plt.title('Comparing visits to Downgrades page among two groups of users')\n",
    "plt.show()"
   ]
  },
  {
   "cell_type": "markdown",
   "metadata": {},
   "source": [
    "Cancelled users appear to have visited the downgrade page slightly more than the users who did not yet cancel"
   ]
  },
  {
   "cell_type": "markdown",
   "metadata": {},
   "source": [
    "#### Dislikes"
   ]
  },
  {
   "cell_type": "code",
   "execution_count": 22,
   "metadata": {},
   "outputs": [],
   "source": [
    "#Obtain a dataframe of label and how many times they appeared to thumbs down\n",
    "\n",
    "dislikes = df.select('label','page').where(col('page')=='Thumbs Down').groupby('label').count()\n",
    "\n",
    "dis_df = pd.DataFrame({'1':(dislikes.select('count').collect()[0][0]/all_cancelled.count())*100,\n",
    "                     '0':(dislikes.select('count').collect()[1][0]/stayed.count())*100}, index = [1])"
   ]
  },
  {
   "cell_type": "code",
   "execution_count": 23,
   "metadata": {},
   "outputs": [
    {
     "data": {
      "image/png": "[encoded data removed]",
      "text/plain": [
       "<matplotlib.figure.Figure at 0x7f21e1352d68>"
      ]
     },
     "metadata": {
      "needs_background": "light"
     },
     "output_type": "display_data"
    }
   ],
   "source": [
    "#Visualization\n",
    "\n",
    "\n",
    "dis_df.plot(kind = 'bar', figsize = (8,5))\n",
    "plt.ylabel('% of Thumbs down to all events')\n",
    "plt.xlabel('Cancelled and non cancelled users')\n",
    "plt.title('Comparing Thumbs down among two groups of users')\n",
    "plt.show()"
   ]
  },
  {
   "cell_type": "markdown",
   "metadata": {},
   "source": [
    "Cancelled users appeared to press thumbs down on songs more than the users who havent cancelled"
   ]
  },
  {
   "cell_type": "markdown",
   "metadata": {},
   "source": [
    "#### Liked Videos"
   ]
  },
  {
   "cell_type": "code",
   "execution_count": 24,
   "metadata": {},
   "outputs": [],
   "source": [
    "#Obtain a dataframe of label and how many times they pressed thumbs up  on songs\n",
    "\n",
    "likes = df.select('label','page').where(col('page')=='Thumbs Up').groupby('label').count()\n",
    "\n",
    "#Percentage of thumbs down events compared to all events by each group\n",
    "likes_df = pd.DataFrame({'1':(likes.select('count').collect()[0][0]/all_cancelled.count())*100,\n",
    "                     '0':(likes.select('count').collect()[1][0]/stayed.count())*100}, index = [1])"
   ]
  },
  {
   "cell_type": "code",
   "execution_count": 25,
   "metadata": {},
   "outputs": [
    {
     "data": {
      "image/png": "[encoded data removed]",
      "text/plain": [
       "<matplotlib.figure.Figure at 0x7f21e3444080>"
      ]
     },
     "metadata": {
      "needs_background": "light"
     },
     "output_type": "display_data"
    }
   ],
   "source": [
    "#Visualization\n",
    "\n",
    "\n",
    "likes_df.plot(kind = 'bar', figsize = (8,5))\n",
    "plt.ylabel('% of Thumbs Up to all events')\n",
    "plt.xlabel('Cancelled and non cancelled users')\n",
    "plt.title('Comparing Thumbs Up among two groups of users')\n",
    "plt.show()"
   ]
  },
  {
   "cell_type": "markdown",
   "metadata": {},
   "source": [
    "Users who have not cancelled their subscriptions appear to have liked (thumbs up) to more songs"
   ]
  },
  {
   "cell_type": "markdown",
   "metadata": {},
   "source": [
    "#### Adding to playlist"
   ]
  },
  {
   "cell_type": "code",
   "execution_count": 26,
   "metadata": {},
   "outputs": [],
   "source": [
    "#Obtain a dataframe of label and how many times they added to their playlist\n",
    "\n",
    "added = df.select('label','page').where(col('page')=='Add to Playlist').groupby('label').count()\n",
    "\n",
    "#Percentage of thumbs down events compared to all events by each group\n",
    "added_df = pd.DataFrame({'1':(likes.select('count').collect()[0][0]/all_cancelled.count())*100,\n",
    "                     '0':(likes.select('count').collect()[1][0]/stayed.count())*100}, index = [1])"
   ]
  },
  {
   "cell_type": "code",
   "execution_count": 126,
   "metadata": {},
   "outputs": [
    {
     "data": {
      "image/png": "[encoded data removed]",
      "text/plain": [
       "<matplotlib.figure.Figure at 0x7f21d015ae48>"
      ]
     },
     "metadata": {
      "needs_background": "light"
     },
     "output_type": "display_data"
    }
   ],
   "source": [
    "#Visualization\n",
    "\n",
    "\n",
    "added_df.plot(kind = 'bar', figsize = (8,5))\n",
    "plt.ylabel('% of Added to Playlist for all events')\n",
    "plt.xlabel('Cancelled and non cancelled users')\n",
    "plt.title('Comparing Playlist add among two groups of users')\n",
    "plt.show()"
   ]
  },
  {
   "cell_type": "markdown",
   "metadata": {},
   "source": [
    "Again users who stayed seem to have added to their playlist more often"
   ]
  },
  {
   "cell_type": "markdown",
   "metadata": {},
   "source": [
    "#### Error Page"
   ]
  },
  {
   "cell_type": "code",
   "execution_count": 29,
   "metadata": {},
   "outputs": [],
   "source": [
    "#Obtain a dataframe of label and how many times they ended in Error page\n",
    "\n",
    "error = df.select('label','page').where(col('page')=='Error').groupby('label').count()\n",
    "\n",
    "#Percentage of thumbs down events compared to all events by each group\n",
    "error_df = pd.DataFrame({'1':(likes.select('count').collect()[0][0]/all_cancelled.count())*100,\n",
    "                     '0':(likes.select('count').collect()[1][0]/stayed.count())*100}, index = [1])"
   ]
  },
  {
   "cell_type": "code",
   "execution_count": 31,
   "metadata": {},
   "outputs": [
    {
     "data": {
      "image/png": "[encoded data removed]",
      "text/plain": [
       "<matplotlib.figure.Figure at 0x7f21e13b4860>"
      ]
     },
     "metadata": {
      "needs_background": "light"
     },
     "output_type": "display_data"
    }
   ],
   "source": [
    "#Visualization\n",
    "\n",
    "\n",
    "error_df.plot(kind = 'bar', figsize = (8,5))\n",
    "plt.ylabel('% of Error page events among all events')\n",
    "plt.xlabel('Cancelled and non cancelled users')\n",
    "plt.title('Error page events among the two groups of users')\n",
    "plt.show()"
   ]
  },
  {
   "cell_type": "markdown",
   "metadata": {},
   "source": [
    "Looks like the users who have not cancelled have more % times landed to error page more than cancelled users. So it is unlikely  a factor to make users want to leave."
   ]
  },
  {
   "cell_type": "markdown",
   "metadata": {},
   "source": [
    "#### Length of time a song played"
   ]
  },
  {
   "cell_type": "code",
   "execution_count": 124,
   "metadata": {},
   "outputs": [
    {
     "name": "stdout",
     "output_type": "stream",
     "text": [
      "Cancelled Users: 36394\n",
      "Stayed Users: 191714\n"
     ]
    }
   ],
   "source": [
    "#Length of time music played for each group\n",
    "\n",
    "print('Cancelled Users:', df.select('label','length').where(col('label') == 1).where(col('length').isNotNull()).count())\n",
    "print('Stayed Users:', df.select('label','length').where(col('label') == 0).where(col('length').isNotNull()).count())"
   ]
  },
  {
   "cell_type": "code",
   "execution_count": 26,
   "metadata": {},
   "outputs": [
    {
     "data": {
      "image/png": "[encoded data removed]",
      "text/plain": [
       "<matplotlib.figure.Figure at 0x7f46d0dbc9b0>"
      ]
     },
     "metadata": {
      "needs_background": "light"
     },
     "output_type": "display_data"
    }
   ],
   "source": [
    "#Obtain a dataframe of label and how many times they ended in Error page\n",
    "\n",
    "lengths = df.select('label','length').groupby('label').count()\n",
    "lengths_df = lengths.toPandas().set_index('label')\n",
    "\n",
    "#Visualization\n",
    "\n",
    "\n",
    "lengths_df.plot(kind = 'bar', figsize = (8,5))\n",
    "plt.ylabel('Lengths among all two groups')\n",
    "plt.xlabel('Cancelled and non cancelled users')\n",
    "plt.title('Comparing lengths of play for the two groups of users')\n",
    "plt.show()"
   ]
  },
  {
   "cell_type": "code",
   "execution_count": null,
   "metadata": {},
   "outputs": [],
   "source": [
    ".select('userId', col('sum(length)')\\.alias('count'))"
   ]
  },
  {
   "cell_type": "code",
   "execution_count": null,
   "metadata": {},
   "outputs": [],
   "source": []
  },
  {
   "cell_type": "code",
   "execution_count": 15,
   "metadata": {},
   "outputs": [],
   "source": [
    "#Aggregate length by average per user\n",
    "mhy = (df.select('userId', 'length', 'label').groupby('userId', 'label').agg({'length':'avg'})).select('label', col('avg(length)').alias('av_length'))"
   ]
  },
  {
   "cell_type": "code",
   "execution_count": 18,
   "metadata": {},
   "outputs": [
    {
     "data": {
      "image/png": "[encoded data removed]",
      "text/plain": [
       "<matplotlib.figure.Figure at 0x7f36e8c8bf60>"
      ]
     },
     "metadata": {
      "needs_background": "light"
     },
     "output_type": "display_data"
    }
   ],
   "source": [
    "avlength_df = mhy.toPandas().set_index('label')\n",
    "\n",
    "#Visualization\n",
    "\n",
    "\n",
    "avlength_df.plot(kind = 'hist', figsize = (8,5))\n",
    "plt.ylabel('Lengths among all two groups')\n",
    "plt.xlabel('Cancelled and non cancelled users')\n",
    "plt.title('Comparing lengths of play for the two groups of users')\n",
    "plt.show()"
   ]
  },
  {
   "cell_type": "code",
   "execution_count": 12,
   "metadata": {},
   "outputs": [],
   "source": [
    "bh = df.select('label', 'userid').groupby('userId','label').count().select('userId', 'label')"
   ]
  },
  {
   "cell_type": "code",
   "execution_count": 13,
   "metadata": {},
   "outputs": [
    {
     "data": {
      "text/plain": [
       "226"
      ]
     },
     "execution_count": 13,
     "metadata": {},
     "output_type": "execute_result"
    }
   ],
   "source": [
    "bh.count()"
   ]
  },
  {
   "cell_type": "code",
   "execution_count": 125,
   "metadata": {},
   "outputs": [
    {
     "name": "stdout",
     "output_type": "stream",
     "text": [
      "Cancelled Users: 36394\n",
      "Stayed Users: 191714\n"
     ]
    }
   ],
   "source": [
    "#Number of times the 'NextSong' page was arrived at for each group\n",
    "\n",
    "print('Cancelled Users:', df.select('label','length','page').where(col('label') == 1).where(col('page')=='NextSong').count())\n",
    "print('Stayed Users:', df.select('label','length','page').where(col('label') == 0).where(col('page')=='NextSong').count())"
   ]
  },
  {
   "cell_type": "markdown",
   "metadata": {},
   "source": [
    "Looks like the number of times users was found at 'NextSong' page indicate valid plays where length of play is not None\n",
    "\n",
    "Drawing from this intelligence, We can get the average length of plays for each group and compare the two as follows:"
   ]
  },
  {
   "cell_type": "code",
   "execution_count": 119,
   "metadata": {},
   "outputs": [
    {
     "data": {
      "text/plain": [
       "[Row(avg(length)=248.63279564406366)]"
      ]
     },
     "execution_count": 119,
     "metadata": {},
     "output_type": "execute_result"
    }
   ],
   "source": [
    "#Pull the average length of songs played by all users who cancelled\n",
    "\n",
    "df.select('label','length').where(col('label') == 1).where(col('length').isNotNull()).agg(avg(col('length'))).collect()"
   ]
  },
  {
   "cell_type": "code",
   "execution_count": 120,
   "metadata": {},
   "outputs": [
    {
     "data": {
      "text/plain": [
       "[Row(avg(length)=249.20913538881427)]"
      ]
     },
     "execution_count": 120,
     "metadata": {},
     "output_type": "execute_result"
    }
   ],
   "source": [
    "#Pull the average length of songs played by all users who did not cancel\n",
    "\n",
    "df.select('label','length').where(col('label') == 0).where(col('length').isNotNull()).agg(avg(col('length'))).collect()"
   ]
  },
  {
   "cell_type": "markdown",
   "metadata": {},
   "source": [
    "It does look like the users who did not cancel have slightly higher average length of songs, even though this is very small."
   ]
  },
  {
   "cell_type": "code",
   "execution_count": 9,
   "metadata": {},
   "outputs": [
    {
     "data": {
      "text/plain": [
       "Row(artist='Martha Tilston', auth='Logged In', firstName='Colin', gender='M', itemInSession=50, lastName='Freeman', length=277.89016, level='paid', location='Bakersfield, CA', method='PUT', page='NextSong', registration=1538173362000, sessionId=29, song='Rockpools', status=200, ts=1538352117000, userAgent='Mozilla/5.0 (Windows NT 6.1; WOW64; rv:31.0) Gecko/20100101 Firefox/31.0', userId='30', Churn='0', label=0)"
      ]
     },
     "execution_count": 9,
     "metadata": {},
     "output_type": "execute_result"
    }
   ],
   "source": [
    "df.head()"
   ]
  },
  {
   "cell_type": "code",
   "execution_count": 23,
   "metadata": {},
   "outputs": [
    {
     "name": "stdout",
     "output_type": "stream",
     "text": [
      "+--------------------+\n",
      "|                page|\n",
      "+--------------------+\n",
      "|              Cancel|\n",
      "|    Submit Downgrade|\n",
      "|         Thumbs Down|\n",
      "|                Home|\n",
      "|           Downgrade|\n",
      "|         Roll Advert|\n",
      "|              Logout|\n",
      "|       Save Settings|\n",
      "|Cancellation Conf...|\n",
      "|               About|\n",
      "| Submit Registration|\n",
      "|            Settings|\n",
      "|               Login|\n",
      "|            Register|\n",
      "|     Add to Playlist|\n",
      "|          Add Friend|\n",
      "|            NextSong|\n",
      "|           Thumbs Up|\n",
      "|                Help|\n",
      "|             Upgrade|\n",
      "|               Error|\n",
      "|      Submit Upgrade|\n",
      "+--------------------+\n",
      "\n"
     ]
    }
   ],
   "source": [
    "df.select('page').distinct().show(22)"
   ]
  },
  {
   "cell_type": "code",
   "execution_count": 21,
   "metadata": {},
   "outputs": [
    {
     "name": "stdout",
     "output_type": "stream",
     "text": [
      "+----------+\n",
      "|      auth|\n",
      "+----------+\n",
      "|Logged Out|\n",
      "| Cancelled|\n",
      "|     Guest|\n",
      "| Logged In|\n",
      "+----------+\n",
      "\n"
     ]
    }
   ],
   "source": [
    "df.select('auth').distinct().show(22)"
   ]
  },
  {
   "cell_type": "code",
   "execution_count": 24,
   "metadata": {},
   "outputs": [
    {
     "data": {
      "text/plain": [
       "286500"
      ]
     },
     "execution_count": 24,
     "metadata": {},
     "output_type": "execute_result"
    }
   ],
   "source": [
    "df.count()"
   ]
  },
  {
   "cell_type": "markdown",
   "metadata": {},
   "source": [
    "#### Logged Outs and Ins"
   ]
  },
  {
   "cell_type": "code",
   "execution_count": 13,
   "metadata": {},
   "outputs": [],
   "source": [
    "logOuts = df.select('userId','page').where(col('page')=='Logout').groupby('userId').count()"
   ]
  },
  {
   "cell_type": "code",
   "execution_count": 21,
   "metadata": {},
   "outputs": [],
   "source": [
    "logOuts2 = df.select('userId','auth').where(col('auth')=='Logged Out').groupby('userId').count()"
   ]
  },
  {
   "cell_type": "code",
   "execution_count": 11,
   "metadata": {},
   "outputs": [],
   "source": [
    "logIns = df.select('userId','auth').where(col('auth')=='Logged In').groupby('userId').count()"
   ]
  },
  {
   "cell_type": "code",
   "execution_count": 18,
   "metadata": {},
   "outputs": [],
   "source": [
    "logIns2 = df.select('userId','page').where(col('page')=='Login').groupby('userId').count()"
   ]
  },
  {
   "cell_type": "code",
   "execution_count": 24,
   "metadata": {},
   "outputs": [
    {
     "name": "stdout",
     "output_type": "stream",
     "text": [
      "+------+-----+\n",
      "|userId|count|\n",
      "+------+-----+\n",
      "|100010|    5|\n",
      "|200002|    5|\n",
      "|    51|   24|\n",
      "+------+-----+\n",
      "only showing top 3 rows\n",
      "\n"
     ]
    }
   ],
   "source": [
    "logOuts.show(3)"
   ]
  },
  {
   "cell_type": "code",
   "execution_count": 22,
   "metadata": {},
   "outputs": [
    {
     "name": "stdout",
     "output_type": "stream",
     "text": [
      "+------+-----+\n",
      "|userId|count|\n",
      "+------+-----+\n",
      "|      | 8249|\n",
      "+------+-----+\n",
      "\n"
     ]
    }
   ],
   "source": [
    "logOuts2.show()"
   ]
  },
  {
   "cell_type": "code",
   "execution_count": 20,
   "metadata": {},
   "outputs": [
    {
     "name": "stdout",
     "output_type": "stream",
     "text": [
      "+------+-----+\n",
      "|userId|count|\n",
      "+------+-----+\n",
      "|      | 3241|\n",
      "+------+-----+\n",
      "\n"
     ]
    }
   ],
   "source": [
    "logIns2.show()"
   ]
  },
  {
   "cell_type": "code",
   "execution_count": 15,
   "metadata": {},
   "outputs": [
    {
     "data": {
      "text/plain": [
       "225"
      ]
     },
     "execution_count": 15,
     "metadata": {},
     "output_type": "execute_result"
    }
   ],
   "source": [
    "logIns.count()"
   ]
  },
  {
   "cell_type": "code",
   "execution_count": 23,
   "metadata": {},
   "outputs": [
    {
     "name": "stdout",
     "output_type": "stream",
     "text": [
      "+------+-----+\n",
      "|userId|count|\n",
      "+------+-----+\n",
      "|100010|  381|\n",
      "|200002|  474|\n",
      "|   125|   10|\n",
      "+------+-----+\n",
      "only showing top 3 rows\n",
      "\n"
     ]
    }
   ],
   "source": [
    "logIns.show(3)"
   ]
  },
  {
   "cell_type": "markdown",
   "metadata": {},
   "source": [
    "Decided to use ratio of counts of each user's presence in log outs page over the counts of the user's authentication as logged in to be the feature of importance given that certain users will have this ratio higher."
   ]
  },
  {
   "cell_type": "markdown",
   "metadata": {},
   "source": [
    "#### Gender"
   ]
  },
  {
   "cell_type": "code",
   "execution_count": 31,
   "metadata": {},
   "outputs": [
    {
     "data": {
      "text/plain": [
       "(104, 2)"
      ]
     },
     "execution_count": 31,
     "metadata": {},
     "output_type": "execute_result"
    }
   ],
   "source": [
    "#How many females in the dataset in general\n",
    "\n",
    "(df.select('userId','gender').where(col('gender')=='F').groupby('userId').count()).toPandas().shape"
   ]
  },
  {
   "cell_type": "code",
   "execution_count": 5,
   "metadata": {},
   "outputs": [
    {
     "data": {
      "text/plain": [
       "(121, 2)"
      ]
     },
     "execution_count": 5,
     "metadata": {},
     "output_type": "execute_result"
    }
   ],
   "source": [
    "#How many Males in the dataset in general\n",
    "\n",
    "(df.select('userId','gender').where(col('gender')=='M').groupby('userId').count()).toPandas().shape"
   ]
  },
  {
   "cell_type": "code",
   "execution_count": 136,
   "metadata": {},
   "outputs": [
    {
     "data": {
      "text/plain": [
       "[Row(gender='F', count=135410), Row(gender='M', count=97880)]"
      ]
     },
     "execution_count": 136,
     "metadata": {},
     "output_type": "execute_result"
    }
   ],
   "source": [
    "#Distribution of gender among the two groups - non churn users\n",
    "\n",
    "df.select('label','gender').where(col('label')==0).groupby('gender').count().collect()"
   ]
  },
  {
   "cell_type": "code",
   "execution_count": 12,
   "metadata": {},
   "outputs": [
    {
     "data": {
      "text/plain": [
       "[Row(gender='F', count=19168),\n",
       " Row(gender=None, count=8346),\n",
       " Row(gender='M', count=25696)]"
      ]
     },
     "execution_count": 12,
     "metadata": {},
     "output_type": "execute_result"
    }
   ],
   "source": [
    "#Distribution of gender among the two groups - churn users\n",
    "\n",
    "df.select('label','gender').where(col('label')==1).groupby('gender').count().collect()"
   ]
  },
  {
   "cell_type": "code",
   "execution_count": 23,
   "metadata": {},
   "outputs": [
    {
     "name": "stderr",
     "output_type": "stream",
     "text": [
      "/opt/conda/lib/python3.6/site-packages/ipykernel_launcher.py:12: FutureWarning: Sorting because non-concatenation axis is not aligned. A future version\n",
      "of pandas will change to not sort by default.\n",
      "\n",
      "To accept the future behavior, pass 'sort=False'.\n",
      "\n",
      "To retain the current behavior and silence the warning, pass 'sort=True'.\n",
      "\n",
      "  if sys.path[0] == '':\n"
     ]
    },
    {
     "data": {
      "image/png": "[encoded data removed]",
      "text/plain": [
       "<matplotlib.figure.Figure at 0x7f46d0f10e10>"
      ]
     },
     "metadata": {
      "needs_background": "light"
     },
     "output_type": "display_data"
    }
   ],
   "source": [
    "#Obtain a dataframe of label and gender for comprism of gender among two groups\n",
    "\n",
    "\n",
    "authen1 = df.select('label','gender').where(col('label')=='1').groupby('gender').count().toPandas()\n",
    "authen0 = df.select('label','gender').where(col('label')=='0').groupby('gender').count().toPandas()\n",
    "\n",
    "#Rename columns and set level column to index\n",
    "authen0_df = authen0.rename(columns={'count':'0'}).set_index('gender')\n",
    "authen1_df = authen1.rename(columns = {'count':'1'}).set_index('gender')\n",
    "\n",
    "#Concatenate the two dataframes\n",
    "auth_df = pd.concat([authen1_df, authen0_df], axis = 1)\n",
    "\n",
    "sum_1 = np.sum(auth_df['1'])\n",
    "\n",
    "#Convert to percenttage proportions\n",
    "get_percent1 = lambda x: (x/sum_1)*100\n",
    "get_percent0 = lambda x: (x/stayed.count())*100\n",
    "\n",
    "\n",
    "#Apply the functions to the respective columns\n",
    "auth_df['1'] = auth_df['1'].apply(get_percent1)\n",
    "auth_df['0'] = auth_df['0'].apply(get_percent0)\n",
    "\n",
    "\n",
    "#Visualization\n",
    "\n",
    "\n",
    "auth_df.plot(kind = 'bar', figsize = (8,5))\n",
    "plt.ylabel('Proportions of male and female among all users')\n",
    "plt.xlabel('Cancelled and non cancelled males and females')\n",
    "plt.title('Comparing percentage of each gender among the two groups of users')\n",
    "plt.show()"
   ]
  },
  {
   "cell_type": "markdown",
   "metadata": {},
   "source": [
    "Males are more likely to cancel than females. Also the invalid users ('') appear to have been cancelled users"
   ]
  },
  {
   "cell_type": "code",
   "execution_count": 22,
   "metadata": {},
   "outputs": [
    {
     "data": {
      "text/html": [
       "<div>\n",
       "<style scoped>\n",
       "    .dataframe tbody tr th:only-of-type {\n",
       "        vertical-align: middle;\n",
       "    }\n",
       "\n",
       "    .dataframe tbody tr th {\n",
       "        vertical-align: top;\n",
       "    }\n",
       "\n",
       "    .dataframe thead th {\n",
       "        text-align: right;\n",
       "    }\n",
       "</style>\n",
       "<table border=\"1\" class=\"dataframe\">\n",
       "  <thead>\n",
       "    <tr style=\"text-align: right;\">\n",
       "      <th></th>\n",
       "      <th>1</th>\n",
       "      <th>0</th>\n",
       "    </tr>\n",
       "  </thead>\n",
       "  <tbody>\n",
       "    <tr>\n",
       "      <th>F</th>\n",
       "      <td>36.023304</td>\n",
       "      <td>58.043637</td>\n",
       "    </tr>\n",
       "    <tr>\n",
       "      <th>NaN</th>\n",
       "      <td>15.685022</td>\n",
       "      <td>NaN</td>\n",
       "    </tr>\n",
       "    <tr>\n",
       "      <th>M</th>\n",
       "      <td>48.291674</td>\n",
       "      <td>41.956363</td>\n",
       "    </tr>\n",
       "  </tbody>\n",
       "</table>\n",
       "</div>"
      ],
      "text/plain": [
       "             1          0\n",
       "F    36.023304  58.043637\n",
       "NaN  15.685022        NaN\n",
       "M    48.291674  41.956363"
      ]
     },
     "execution_count": 22,
     "metadata": {},
     "output_type": "execute_result"
    }
   ],
   "source": [
    "#Percentage proportions of males and females\n",
    "\n",
    "auth_df.head()"
   ]
  },
  {
   "cell_type": "markdown",
   "metadata": {},
   "source": [
    "#### Authentication"
   ]
  },
  {
   "cell_type": "code",
   "execution_count": 138,
   "metadata": {},
   "outputs": [
    {
     "data": {
      "text/plain": [
       "[Row(auth='Logged Out', count=8249),\n",
       " Row(auth='Cancelled', count=52),\n",
       " Row(auth='Guest', count=97),\n",
       " Row(auth='Logged In', count=44812)]"
      ]
     },
     "execution_count": 138,
     "metadata": {},
     "output_type": "execute_result"
    }
   ],
   "source": [
    "df.select('label','auth').where(col('label')==1).groupby('auth').count().collect()"
   ]
  },
  {
   "cell_type": "code",
   "execution_count": 139,
   "metadata": {},
   "outputs": [
    {
     "data": {
      "text/plain": [
       "[Row(auth='Logged In', count=233290)]"
      ]
     },
     "execution_count": 139,
     "metadata": {},
     "output_type": "execute_result"
    }
   ],
   "source": [
    "df.select('label','auth').where(col('label')==0).groupby('auth').count().collect()"
   ]
  },
  {
   "cell_type": "code",
   "execution_count": 16,
   "metadata": {},
   "outputs": [
    {
     "name": "stderr",
     "output_type": "stream",
     "text": [
      "/opt/conda/lib/python3.6/site-packages/ipykernel_launcher.py:12: FutureWarning: Sorting because non-concatenation axis is not aligned. A future version\n",
      "of pandas will change to not sort by default.\n",
      "\n",
      "To accept the future behavior, pass 'sort=False'.\n",
      "\n",
      "To retain the current behavior and silence the warning, pass 'sort=True'.\n",
      "\n",
      "  if sys.path[0] == '':\n"
     ]
    },
    {
     "data": {
      "image/png": "[encoded data removed]",
      "text/plain": [
       "<matplotlib.figure.Figure at 0x7f46d1181b00>"
      ]
     },
     "metadata": {
      "needs_background": "light"
     },
     "output_type": "display_data"
    }
   ],
   "source": [
    "#Obtain a dataframe of label and gender for comprism of gender among two groups\n",
    "\n",
    "\n",
    "authen1 = df.select('label','auth').where(col('label')=='1').groupby('auth').count().toPandas()\n",
    "authen0 = df.select('label','auth').where(col('label')=='0').groupby('auth').count().toPandas()\n",
    "\n",
    "#Rename columns and set level column to index\n",
    "authen0_df = authen0.rename(columns={'count':'0'}).set_index('auth')\n",
    "authen1_df = authen1.rename(columns = {'count':'1'}).set_index('auth')\n",
    "\n",
    "#Concatenate the two dataframes\n",
    "auth_df = pd.concat([authen1_df, authen0_df], axis = 1)\n",
    "\n",
    "sum_1 = np.sum(auth_df['1'])\n",
    "\n",
    "#Convert to percenttage proportions\n",
    "get_percent1 = lambda x: (x/sum_1)*100\n",
    "get_percent0 = lambda x: (x/stayed.count())*100\n",
    "\n",
    "\n",
    "#Apply the functions to the respective columns\n",
    "auth_df['1'] = auth_df['1'].apply(get_percent1)\n",
    "auth_df['0'] = auth_df['0'].apply(get_percent0)\n",
    "\n",
    "\n",
    "#Visualization\n",
    "\n",
    "\n",
    "auth_df.plot(kind = 'bar', figsize = (8,5))\n",
    "plt.ylabel('% ofloggin and logouts among all users')\n",
    "plt.xlabel('Cancelled and non cancelled authentications')\n",
    "plt.title('Comparing proportion of each authentication type among the two groups of users')\n",
    "plt.show()"
   ]
  },
  {
   "cell_type": "markdown",
   "metadata": {},
   "source": [
    "##### Users who keep logging out and logging back in are more likely to cancel"
   ]
  },
  {
   "cell_type": "markdown",
   "metadata": {},
   "source": [
    "#### Levels: Free or Paid"
   ]
  },
  {
   "cell_type": "code",
   "execution_count": 73,
   "metadata": {},
   "outputs": [],
   "source": [
    "#Obtain a dataframe of label and levels for comprism\n",
    "\n",
    "\n",
    "authen1 = df.select('label','level').where(col('label')=='1').groupby('level').count().toPandas()\n",
    "authen0 = df.select('label','level').where(col('label')=='0').groupby('level').count().toPandas()\n",
    "\n",
    "#Rename columns and set level column to index\n",
    "authen0_df = authen0.rename(columns={'count':'0'}).set_index('level')\n",
    "authen1_df = authen1.rename(columns = {'count':'1'}).set_index('level')\n",
    "\n",
    "#Concatenate the two dataframes\n",
    "auth_df = pd.concat([authen1_df, authen0_df], axis = 1)\n",
    "\n",
    "sum_1 = np.sum(auth_df['1'])\n",
    "\n",
    "#Convert to percenttages\n",
    "get_percent1 = lambda x: (x/sum_1)*100\n",
    "get_percent0 = lambda x: (x/stayed.count())*100\n",
    "\n",
    "\n",
    "#Apply the functions to the respective columns\n",
    "auth_df['1'] = auth_df['1'].apply(get_percent1)\n",
    "auth_df['0'] = auth_df['0'].apply(get_percent0)\n"
   ]
  },
  {
   "cell_type": "code",
   "execution_count": 74,
   "metadata": {},
   "outputs": [
    {
     "data": {
      "image/png": "[encoded data removed]",
      "text/plain": [
       "<matplotlib.figure.Figure at 0x7fb148db6b70>"
      ]
     },
     "metadata": {
      "needs_background": "light"
     },
     "output_type": "display_data"
    }
   ],
   "source": [
    "#Visualization\n",
    "\n",
    "\n",
    "auth_df.plot(kind = 'bar', figsize = (8,5))\n",
    "plt.ylabel('% of level events among all users')\n",
    "plt.xlabel('Cancelled and non cancelled users and levels')\n",
    "plt.title('Comparing percentage of each level among the two groups of users')\n",
    "plt.show()"
   ]
  },
  {
   "cell_type": "markdown",
   "metadata": {},
   "source": [
    "Cancelled users appear to have streamed sparkify songs more on free level"
   ]
  },
  {
   "cell_type": "markdown",
   "metadata": {},
   "source": [
    "#### Method - PUT or GET"
   ]
  },
  {
   "cell_type": "code",
   "execution_count": 79,
   "metadata": {},
   "outputs": [
    {
     "data": {
      "text/plain": [
       "[Row(method='PUT', count=44373), Row(method='GET', count=8837)]"
      ]
     },
     "execution_count": 79,
     "metadata": {},
     "output_type": "execute_result"
    }
   ],
   "source": [
    "df.select('label','method').where(col('label')==1).groupby('method').count().collect()"
   ]
  },
  {
   "cell_type": "code",
   "execution_count": 80,
   "metadata": {},
   "outputs": [
    {
     "data": {
      "text/plain": [
       "[Row(method='PUT', count=216691), Row(method='GET', count=16599)]"
      ]
     },
     "execution_count": 80,
     "metadata": {},
     "output_type": "execute_result"
    }
   ],
   "source": [
    "df.select('label','method').where(col('label')==0).groupby('method').count().collect()"
   ]
  },
  {
   "cell_type": "code",
   "execution_count": 54,
   "metadata": {},
   "outputs": [],
   "source": [
    "#Obtain a dataframe of label and methods for comprism\n",
    "\n",
    "\n",
    "meth1 = df.select('label','method').where(col('label')==1).groupby('method').count().toPandas()\n",
    "meth0 = df.select('label','method').where(col('label')==0).groupby('method').count().toPandas()\n",
    "\n",
    "#Rename columns and set level column to index\n",
    "meth0_df = meth0.rename(columns={'count':'0'}).set_index('method')\n",
    "meth1_df = meth1.rename(columns = {'count':'1'}).set_index('method')\n",
    "\n",
    "#Concatenate the two dataframes\n",
    "meth_df = pd.concat([meth1_df, meth0_df], axis = 1)\n",
    "\n",
    "sum_1 = np.sum(meth_df['1'])\n",
    "\n",
    "#Convert to percenttages\n",
    "get_percent1 = lambda x: (x/sum_1)*100\n",
    "get_percent0 = lambda x: (x/stayed.count())*100\n",
    "\n",
    "\n",
    "#Apply the functions to the respective columns\n",
    "meth_df['1'] = meth_df['1'].apply(get_percent1)\n",
    "meth_df['0'] = meth_df['0'].apply(get_percent0)"
   ]
  },
  {
   "cell_type": "code",
   "execution_count": 55,
   "metadata": {},
   "outputs": [
    {
     "data": {
      "image/png": "[encoded data removed]",
      "text/plain": [
       "<matplotlib.figure.Figure at 0x7f7a3a0db8d0>"
      ]
     },
     "metadata": {
      "needs_background": "light"
     },
     "output_type": "display_data"
    }
   ],
   "source": [
    "#Visualization\n",
    "\n",
    "\n",
    "meth_df.plot(kind = 'bar', figsize = (8,5))\n",
    "plt.ylabel('% of different methods among all users')\n",
    "plt.xlabel('Cancelled and non cancelled users and methods')\n",
    "plt.title('Comparing percentage of each method among the two groups of users')\n",
    "plt.show()"
   ]
  },
  {
   "cell_type": "markdown",
   "metadata": {},
   "source": [
    "Cancelled users appear to use more of 'GET' Method while non-cancelled users use more 'PUT' method"
   ]
  },
  {
   "cell_type": "markdown",
   "metadata": {},
   "source": [
    "## 3. DATA PROPROCESSING AND FEATURE ENGINEERING"
   ]
  },
  {
   "cell_type": "markdown",
   "metadata": {},
   "source": [
    "### Getting the features we need to perform modelling"
   ]
  },
  {
   "cell_type": "code",
   "execution_count": 100,
   "metadata": {},
   "outputs": [],
   "source": [
    "features_list = ['likes', 'dislikes', 'friend_adds', 'playlist_adds', 'downgraded', 'upgraded', 'NumSongs', 'length'\\\n",
    "                ,'gender', 'method', 'status', 'level']#list of possibl features"
   ]
  },
  {
   "cell_type": "markdown",
   "metadata": {},
   "source": [
    "**Some of the columns have sub-features which are not specific to users and so a given user may have more than one of such \n",
    "feature. Because, of this, I will engineer them as aggregates of either count, sum, or average depending on which makes more\n",
    "sense. On the otherhand, some columns are pure categorical columns eg. GENDER and will not make sense to  agrregate them in any way. For these, I will simply encode them. Other columns will have certain variables that I can engineer using agrregate sums for each user eg. length of music. Further features will be engineered using insights from my exploratory analysis while avoiding duplicity of features or having two features that explain similar events.**\n",
    "\n",
    "1. **Length:** Aggregate length by total length per user. Knowing that from exploratory analysis, the users who did not cancel have slightly higher average length of songs. \n",
    "\n",
    "\n",
    "2. **Likes:** Aggregate likes by total count of thumbs-up per user given that users who did not cancel have a higher tendency to thumbs-up on songs, compared to users who later cancelled.\n",
    "\n",
    "\n",
    "3. **Dislikes:** Aggregate dislikes by total count of page -thumbs_down per user given that users who did not cancel have a lower tendency to thumbs-down on songs, compared to users who later cancelled.\n",
    "\n",
    "\n",
    "4. **Added_friends:** Aggregate added_friends by total count of page -added_friends per user given that users who did not cancel have a higher tendency to add_friends (measured by percentage ratio of _add friends_ page to all other pages), compared to users who later cancelled.\n",
    "\n",
    "\n",
    "5. **Playlist_adds:** Aggregate playlist_adds by total count of page -add to playlist per user given that users who did not cancel have a higher percentage ratio of add_playlist  compared to users who later cancelled.\n",
    "\n",
    "\n",
    "6. **Downgraded:** Aggregate downgraded by total count of page -downgraded per user knowing that users who did not cancel have a lower percentage ratio of a downgradeed  compared to users who later cancelled.\n",
    "\n",
    "\n",
    "7. **Upgraded:** Aggregate upgraded by total count of page -upgraded per user knowing that users who did not cancel have a higherr percentage ratio of a upgradeed  compared to users who later cancelled.\n",
    "\n",
    "\n",
    "8. **NumSongs:** Aggregate Songs by total count of songs per user knowing that users who did not cancel have a higher average number of a songs  compared to users who later cancelled. 'NextSong' page is akin to valid plays where length of play is not None, this should be synonymous to count of songs and will not add extra benefit to the model  if included.\n",
    "\n",
    "\n",
    "9. **Method_Put:** Aggregate PUT method by the number of times each user used the PUT method. This because a user may have used more than one method, hence, setting it of as simply categorical will not clearly reflect the effect of this feature\n",
    "\n",
    "\n",
    "10. **Method_Get:** Aggregate GET method by the number of times each user used the GET method. Same logic as the PUT method\n",
    "\n",
    "\n",
    "11. **Gender:** Group the users according to gender, as no user appeared to have more than one gender. Thus, gender is a purely categorical feature.\n",
    "\n",
    "\n",
    "12. **Status_307:** Aggregate status by the number of times each user used the status of 307. This is since certain user used more that one type of staus\n",
    "\n",
    "\n",
    "13. **Status_200:** Aggregate status by the number of times each user used the status of 200. \n",
    "\n",
    "\n",
    "14. **Status_404:** Aggregate status by the number of times each user used the status of 404 to stream a song.\n",
    "\n",
    "\n",
    "15. **Level_paid:** Aggregate level by the number of times each user used the Paid level to stream a song.\n",
    "\n",
    "\n",
    "16. **Level_free:** Aggregate status by the number of times each user used the Free level to stream a song.\n",
    "\n"
   ]
  },
  {
   "cell_type": "markdown",
   "metadata": {},
   "source": [
    "##### Create/engineer all necessary features and combne into a list"
   ]
  },
  {
   "cell_type": "code",
   "execution_count": 10,
   "metadata": {},
   "outputs": [],
   "source": [
    "def engineer_features(df):\n",
    "    '''\n",
    "    Script to create all the needed feature for the model-classisfication problem of user churn for\n",
    "    sparkify. creates and combine all the features into a list of dataframes\n",
    "\n",
    "    \n",
    "    Args:\n",
    "        df: The dataframe of the events recorded for users on the streaming platform\n",
    "    Returns:\n",
    "        returns a list of dataframes of the features needed for modelling.\n",
    "    '''\n",
    "    dat_f = []#define list to combine all features\n",
    "    #Aggregate length by average length of play per user\n",
    "    length = (df.select('userId', 'length').groupby('userId').agg({'length':'avg'})).select('userId', col('avg(length)')\\\n",
    "                                                                                            .alias('count'))\n",
    "    dat_f.append(('length', length))\n",
    "    \n",
    "    #Aggregate dislikes by total count per user\n",
    "    dislikes = df.select('userId','page').where(col('page')=='Thumbs Down').groupby('userId').count()\n",
    "    dat_f.append(('dislikes', dislikes))\n",
    "    \n",
    "    likes = df.select('userId','page').where(col('page')=='Thumbs Up').groupby('userId').count()\n",
    "    dat_f.append(('likes', likes))\n",
    "    \n",
    "    #Aggregate added friends by total count per user\n",
    "    friend_adds = df.select('userId','page').where(col('page')=='Add Friend').groupby('userId').count()\n",
    "    dat_f.append(('friend_adds', friend_adds))\n",
    "    \n",
    "    #Aggregate playlist_adds by total count per user\n",
    "    playlist_adds = df.select('userId','page').where(col('page')=='Add to Playlist').groupby('userId').count()\n",
    "    dat_f.append(('playlist_adds', playlist_adds))\n",
    "    \n",
    "    #Aggregate downgrades by total count per user\n",
    "    downgraded = df.select('userId','page').where(col('page')=='Downgrade').groupby('userId').count()\n",
    "    dat_f.append(('downgraded', downgraded))\n",
    "    \n",
    "    #Aggregate upgraded by total count per user\n",
    "    upgraded = df.select('userId','page').where(col('page')=='Upgrade').groupby('userId').count()\n",
    "    dat_f.append(('upgraded', upgraded))\n",
    "    \n",
    "    #Aggregate users by number of features\n",
    "    NumSongs = (df.select('userId', 'song').groupby('userId').agg({'song':'count'})).select('userId', col('count(song)').alias('count'))\n",
    "    dat_f.append(('NumSongs', NumSongs))\n",
    "    \n",
    "    #Aggregate method_put by total count per user\n",
    "    method_put = df.select('method', 'userid').where(col('method') == 'PUT').groupby('userId').count()\n",
    "    dat_f.append(('method_put', method_put))\n",
    "    \n",
    "    #Aggregate method_get by total count per user\n",
    "    method_get = df.select('method', 'userid').where(col('method') == 'GET').groupby('userId').count()\n",
    "    dat_f.append(('method_get', method_get))\n",
    "    \n",
    "    #Group gender per user\n",
    "    gender = (df.select('userId','gender').groupby('userId','gender').count()).select(\\\n",
    "                                                                                  'userId', col('gender').alias('count'))\n",
    "    dat_f.append(('gender', gender))\n",
    "    \n",
    "    #Aggregae status_307 per user\n",
    "    status_307 = df.select('status', 'userid').where(col('status') == 307).groupby('userId').count()\n",
    "    dat_f.append(('status_307', status_307))\n",
    "    \n",
    "    #Aggregae status_404 per user\n",
    "    status_404 = df.select('status', 'userid').where(col('status') == 404).groupby('userId').count()\n",
    "    dat_f.append(('status_404', status_404))\n",
    "    \n",
    "    #Aggregae status_200 per user\n",
    "    status_200 = df.select('status', 'userid').where(col('status') == 200).groupby('userId').count()\n",
    "    dat_f.append(('status_200', status_200))\n",
    "    \n",
    "    #Aggregate for each user, how many times it streamed sparkify songs using level -FREE\n",
    "    level_free = df.select('level', 'userid').where(col('level') == 'free').groupby('userId').count()\n",
    "    dat_f.append(('level_free', level_free))\n",
    "    \n",
    "    #Aggregate for each user, how many times it streamed sparkify songs using level -PAID\n",
    "    level_paid = df.select('level', 'userid').where(col('level') == 'paid').groupby('userId').count()\n",
    "    dat_f.append(('level_paid', level_paid))\n",
    "    \n",
    "    \n",
    "    #Aggregate number/count of of log-outs \n",
    "    logOuts = df.select('userId','page').where(col('page')=='Logout').groupby('userId').count()\n",
    "    dat_f.append(('logOuts', logOuts))\n",
    "    \n",
    "    #Group gender per user\n",
    "    #gender = (df.select('userId','gender').groupby('userId','gender').count()).select('userId', col('gender').alias('count'))\n",
    "    \n",
    "    return dat_f"
   ]
  },
  {
   "cell_type": "code",
   "execution_count": 11,
   "metadata": {},
   "outputs": [],
   "source": [
    "def Concat_DataFrames(dat_f, how = 'outer'):\n",
    "    '''\n",
    "    Concatenates all feature dataframes into one dataframe where each column is a feature, an only have one userId column\n",
    "    Assumes all new dataframes to have a 'userId' column, and a 'count' column\n",
    "    \n",
    "    Args:\n",
    "        data_f: list_dataframes - The list of dataframes to concatenate\n",
    "        how - 'outer' the type of join to use\n",
    "    Returns:\n",
    "        returns a dataframe of the features needed.\n",
    "    '''\n",
    "    \n",
    "    #Combine all the features into a given dataframe that will be the features dataframe.\n",
    "    \n",
    "    #Get the first dataframe and rename count to its actual name\n",
    "    feature_df0 = dat_f[0][1].withColumnRenamed('count', dat_f[0][0])\n",
    "    feature_df0 = feature_df0.withColumnRenamed('userId', 'userId1')\n",
    "    \n",
    "    #for the remaining dataframe, join using 'outer' to retain the number of users in the first dataframe\n",
    "    for name, dataframe in dat_f[1:]:\n",
    "        \n",
    "        #rename column 'count' to actual name\n",
    "        dataframe = dataframe.withColumnRenamed('count', name)#rename column 'count' to actual name\n",
    "        \n",
    "        #join two dataframes into one and delete the new userId\n",
    "        feature_df0 = feature_df0.join(dataframe, feature_df0.userId1 == dataframe.userId, how)\\\n",
    "        .drop(dataframe.userId)#join two dataframes into one and delete the new userId\n",
    "    \n",
    "    return feature_df0\n",
    "\n",
    "#Use the above function to create a features_dataframe\n",
    "feature_df = Concat_DataFrames(engineer_features(df), how = 'outer')#Create the features dataframe"
   ]
  },
  {
   "cell_type": "code",
   "execution_count": 12,
   "metadata": {},
   "outputs": [
    {
     "data": {
      "text/plain": [
       "DataFrame[userId1: string, length: double, dislikes: bigint, likes: bigint, friend_adds: bigint, playlist_adds: bigint, downgraded: bigint, upgraded: bigint, NumSongs: bigint, method_put: bigint, method_get: bigint, gender: string, status_307: bigint, status_404: bigint, status_200: bigint, level_free: bigint, level_paid: bigint, logOuts: bigint]"
      ]
     },
     "execution_count": 12,
     "metadata": {},
     "output_type": "execute_result"
    }
   ],
   "source": [
    "feature_df.cache()"
   ]
  },
  {
   "cell_type": "markdown",
   "metadata": {},
   "source": [
    "#### Report descriptive statistics of each feature to be used in modelling"
   ]
  },
  {
   "cell_type": "code",
   "execution_count": 40,
   "metadata": {},
   "outputs": [],
   "source": [
    "#Features engineered\n",
    "feats = engineer_features(df)"
   ]
  },
  {
   "cell_type": "code",
   "execution_count": 43,
   "metadata": {
    "scrolled": false
   },
   "outputs": [],
   "source": [
    "#Get and report the descriptive statistics of each feature\n",
    "\n",
    "#for name, dataframe in feats:\n",
    "#    print(name)\n",
    "#    dataframe.describe().show()\n",
    "    "
   ]
  },
  {
   "cell_type": "code",
   "execution_count": 36,
   "metadata": {
    "scrolled": true
   },
   "outputs": [
    {
     "name": "stdout",
     "output_type": "stream",
     "text": [
      "+-------+------------------+------------------+------------------+-----------------+------------------+-----------------+\n",
      "|summary|           userId1|            length|          dislikes|            likes|       friend_adds|    playlist_adds|\n",
      "+-------+------------------+------------------+------------------+-----------------+------------------+-----------------+\n",
      "|  count|               226|               225|               203|              220|               206|              215|\n",
      "|   mean|65391.013333333336|252558.32065155543|12.541871921182265|            57.05|20.762135922330096|30.35348837209302|\n",
      "| stddev|105396.47791907164| 275396.4038847635|13.198108566983787|65.67028650524044|20.646779074405007| 32.8520568555997|\n",
      "|    min|                  |         691.66884|                 1|                1|                 1|                1|\n",
      "|    max|                99|1991154.9155799907|                75|              437|               143|              240|\n",
      "+-------+------------------+------------------+------------------+-----------------+------------------+-----------------+\n",
      "\n"
     ]
    }
   ],
   "source": [
    "#First batch\n",
    "\n",
    "feature_df.select('userId1', 'length', 'dislikes', 'likes', 'friend_adds', 'playlist_adds').describe().show()"
   ]
  },
  {
   "cell_type": "code",
   "execution_count": 37,
   "metadata": {},
   "outputs": [
    {
     "name": "stdout",
     "output_type": "stream",
     "text": [
      "+-------+------------------+------------------+------------------+------+------------------+------------------+\n",
      "|summary|        downgraded|          upgraded|          NumSongs|gender|        method_put|        method_get|\n",
      "+-------+------------------+------------------+------------------+------+------------------+------------------+\n",
      "|  count|               154|               168|               226|   225|               226|               225|\n",
      "|   mean|13.344155844155845|2.9702380952380953|1009.3274336283185|  null|1155.1504424778761|113.04888888888888|\n",
      "| stddev| 12.04315761589023|2.5557861915159594|1104.5631691003189|  null|1251.3647818547836|345.16616380363917|\n",
      "|    min|                 1|                 1|                 0|     F|                 3|                 2|\n",
      "|    max|                73|                15|              8002|     M|              8958|              5100|\n",
      "+-------+------------------+------------------+------------------+------+------------------+------------------+\n",
      "\n"
     ]
    }
   ],
   "source": [
    "#Second batch\n",
    "\n",
    "feature_df.select('downgraded', 'upgraded', 'NumSongs', 'gender', 'method_put', 'method_get').describe().show()"
   ]
  },
  {
   "cell_type": "code",
   "execution_count": 38,
   "metadata": {},
   "outputs": [
    {
     "name": "stdout",
     "output_type": "stream",
     "text": [
      "+-------+------------------+------------------+------------------+------------------+------------------+\n",
      "|summary|        status_307|        status_404|        status_200|        level_free|        level_paid|\n",
      "+-------+------------------+------------------+------------------+------------------+------------------+\n",
      "|  count|               224|               118|               226|               196|               166|\n",
      "|   mean|117.99107142857143|2.1864406779661016|1149.6106194690265|297.64285714285717|1374.4698795180723|\n",
      "| stddev|237.57047556804517|1.4319262774221952|  1244.97869992402|348.09607427128066| 1309.055160884664|\n",
      "|    min|                 1|                 1|                 6|                 4|                 1|\n",
      "|    max|              3246|                 7|              8909|              2617|              7779|\n",
      "+-------+------------------+------------------+------------------+------------------+------------------+\n",
      "\n"
     ]
    }
   ],
   "source": [
    "#Third batch\n",
    "\n",
    "feature_df.select('status_307', 'status_404', 'status_200', 'level_free', 'level_paid').describe().show()"
   ]
  },
  {
   "cell_type": "markdown",
   "metadata": {},
   "source": [
    "### Null elements"
   ]
  },
  {
   "cell_type": "code",
   "execution_count": 42,
   "metadata": {},
   "outputs": [],
   "source": [
    "#Since some users will not have values for certain features, they were captured as NULL. In actual sense, these null elements\n",
    "# are zero values, considering aggregates were used. Hence, I will replace these null elements with zeros for all columns.\n",
    "\n",
    "feature_df = feature_df.fillna(0)"
   ]
  },
  {
   "cell_type": "code",
   "execution_count": 42,
   "metadata": {},
   "outputs": [
    {
     "name": "stdout",
     "output_type": "stream",
     "text": [
      "+-------+------------------+-----+--------+-----------+-------------+----------+--------+--------+------+----------+----------+----------+----------+----------+----------+----------+\n",
      "|userId1|            length|likes|dislikes|friend_adds|playlist_adds|downgraded|upgraded|NumSongs|gender|method_put|method_get|status_307|status_404|status_200|level_free|level_paid|\n",
      "+-------+------------------+-----+--------+-----------+-------------+----------+--------+--------+------+----------+----------+----------+----------+----------+----------+----------+\n",
      "| 100010| 66940.89735000003|   17|       5|          4|            7|         0|       2|     275|     F|       313|        68|        31|         0|       350|       381|         0|\n",
      "| 200002| 94008.87593999993|   21|       6|          4|            8|         5|       2|     387|     M|       432|        42|        37|         0|       437|       120|       354|\n",
      "|    125|2089.1131000000005|    0|       0|          0|            0|         0|       0|       8|     M|         9|         2|         1|         0|        10|        11|         0|\n",
      "|    124|1012312.0927899999|  171|      41|         74|          118|        41|       0|    4079|     F|      4548|       277|       351|         6|      4468|         0|      4825|\n",
      "+-------+------------------+-----+--------+-----------+-------------+----------+--------+--------+------+----------+----------+----------+----------+----------+----------+----------+\n",
      "only showing top 4 rows\n",
      "\n"
     ]
    }
   ],
   "source": [
    "feature_df.show(4)"
   ]
  },
  {
   "cell_type": "code",
   "execution_count": 13,
   "metadata": {},
   "outputs": [
    {
     "data": {
      "text/plain": [
       "226"
      ]
     },
     "execution_count": 13,
     "metadata": {},
     "output_type": "execute_result"
    }
   ],
   "source": [
    "feature_df.hint('skew').count()"
   ]
  },
  {
   "cell_type": "code",
   "execution_count": null,
   "metadata": {},
   "outputs": [],
   "source": []
  },
  {
   "cell_type": "markdown",
   "metadata": {},
   "source": [
    "### Categorical columns:"
   ]
  },
  {
   "cell_type": "code",
   "execution_count": 83,
   "metadata": {},
   "outputs": [
    {
     "data": {
      "text/plain": [
       "DataFrame[userId1: string, length: double, likes: bigint, dislikes: bigint, friend_adds: bigint, playlist_adds: bigint, downgraded: bigint, upgraded: bigint, NumSongs: bigint, gender: string, method_put: bigint, method_get: bigint, status_307: bigint, status_404: bigint, status_200: bigint, level_free: bigint, level_paid: bigint]"
      ]
     },
     "execution_count": 83,
     "metadata": {},
     "output_type": "execute_result"
    }
   ],
   "source": [
    "feature_df.persist()"
   ]
  },
  {
   "cell_type": "markdown",
   "metadata": {},
   "source": [
    "The only truly categorical feature at this point is the gender, and this can be simply taken care of using string indexing.\n",
    "Other feature scaling and selection will include:\n",
    "    \n",
    "    a. Vector assembling of all features into one vector\n",
    "    b. Feature scaling using Normalizer, the chosen scaler.\n",
    "    \n",
    "For all these, I will pipeline them into one series on steps and execute them, alongside the modeling. "
   ]
  },
  {
   "cell_type": "markdown",
   "metadata": {},
   "source": [
    "### Distribtion of features/Choosing Scaler"
   ]
  },
  {
   "cell_type": "code",
   "execution_count": 39,
   "metadata": {},
   "outputs": [
    {
     "data": {
      "image/png": "[encoded data removed]",
      "text/plain": [
       "<matplotlib.figure.Figure at 0x7f46d0cdb7f0>"
      ]
     },
     "metadata": {
      "needs_background": "light"
     },
     "output_type": "display_data"
    }
   ],
   "source": [
    "#Data Visualizations\n",
    "#using histograms to find distributions of each field\n",
    "\n",
    "feature_df1 = feature_df.toPandas().set_index('userId1')\n",
    "feature_df1.iloc[:,:].hist(figsize = (8,5))\n",
    "pyplot.show()"
   ]
  },
  {
   "cell_type": "markdown",
   "metadata": {},
   "source": [
    "The distribution of all the features is a deviation from normal, and can best be described as log-normal. In addition, there\n",
    "appear to be some outliers in the features. Hence, a normalizer and MinMaxScaler will be chosen over a standard scaler to effectively scale the\n",
    "features."
   ]
  },
  {
   "cell_type": "markdown",
   "metadata": {},
   "source": [
    "#### Combine the feature and label dataframe into df_ready and remove the user ''"
   ]
  },
  {
   "cell_type": "code",
   "execution_count": 43,
   "metadata": {},
   "outputs": [],
   "source": [
    "#Create the label column for all users\n",
    "\n",
    "label = (df.select('label', 'userid').groupby('userId','label').count()).select(\\\n",
    "                                                                                  'userId', 'label')"
   ]
  },
  {
   "cell_type": "code",
   "execution_count": 44,
   "metadata": {},
   "outputs": [],
   "source": [
    "#Combine \n",
    "\n",
    "df_ready = feature_df.join(label, feature_df.userId1 == label.userId, how = 'outer').drop(label.userId)#join two dataframes\n",
    "df_ready = df_ready.select('*').where(col('userId1') != '')#Remove the invalid user\n",
    "df_ready = df_ready.withColumnRenamed('userId1', 'Id')#rename the userId1 to Id"
   ]
  },
  {
   "cell_type": "code",
   "execution_count": 14,
   "metadata": {},
   "outputs": [],
   "source": [
    "#df_ready.count()"
   ]
  },
  {
   "cell_type": "code",
   "execution_count": 34,
   "metadata": {},
   "outputs": [
    {
     "data": {
      "text/plain": [
       "Row(Id='100010', length=66940.89735000003, dislikes=5, likes=17, friend_adds=4, playlist_adds=7, downgraded=0, upgraded=2, NumSongs=275, method_put=313, method_get=68, gender='F', status_307=31, status_404=0, status_200=350, level_free=381, level_paid=0, label=0)"
      ]
     },
     "execution_count": 34,
     "metadata": {},
     "output_type": "execute_result"
    }
   ],
   "source": [
    "df_ready.persist()"
   ]
  },
  {
   "cell_type": "code",
   "execution_count": 49,
   "metadata": {},
   "outputs": [],
   "source": [
    "from pyspark.ml.feature import MinMaxScaler"
   ]
  },
  {
   "cell_type": "markdown",
   "metadata": {},
   "source": [
    "#### Principal Component Analysis\n",
    "\n",
    "The goal here will be to apply pca and determine the number of k features to use in the building a PCA for pipeline training of the dataset. So i will first test 16 k-values (features), and from the explained variance, I will choose the optimal number of k-features to use in all my modelling going forward."
   ]
  },
  {
   "cell_type": "code",
   "execution_count": 50,
   "metadata": {},
   "outputs": [],
   "source": [
    "Indexer1 = StringIndexer(inputCol = 'gender', outputCol = 'gender_indexed')\n",
    "#Assemble features into one \n",
    "assembler = VectorAssembler(inputCols=['length', 'likes', 'dislikes', 'friend_adds', 'playlist_adds', 'downgraded', \\\n",
    "                                           'upgraded','NumSongs', 'method_put', 'method_get', 'status_307', 'status_404',\\\n",
    "                                           'status_200', 'level_free', 'level_paid', 'logOuts', 'gender_indexed'], outputCol=\"features\")\n",
    "\n",
    "\n",
    "#use Normalizer to normalize features\n",
    "#NScaler = Normalizer(inputCol = 'features', outputCol = 'scaledFeatures')\n",
    "NScaler = MinMaxScaler(inputCol = 'features', outputCol = 'scaledFeatures')\n",
    "#Apply principal component analysis to reduce number of features to the most important features\n",
    "#pca = PCA(k= 10, inputCol=\"scaledFeatures\", outputCol=\"pcaFeatures\")"
   ]
  },
  {
   "cell_type": "code",
   "execution_count": 51,
   "metadata": {},
   "outputs": [],
   "source": [
    "#Define pipeline and get a new train set\n",
    "\n",
    "pipeline1 = Pipeline(stages=[Indexer1, assembler, NScaler])#pipeline the transformations\n",
    "train_Vect = pipeline1.fit(train_set).transform(train_set)#Fit and transform the tran set"
   ]
  },
  {
   "cell_type": "code",
   "execution_count": 48,
   "metadata": {},
   "outputs": [
    {
     "data": {
      "text/plain": [
       "Row(Id='100010', length=243.421444909091, dislikes=5, likes=17, friend_adds=4, playlist_adds=7, downgraded=0, upgraded=2, NumSongs=275, method_put=313, method_get=68, gender='F', status_307=31, status_404=0, status_200=350, level_free=381, level_paid=0, logOuts=5, label=0, gender_indexed=1.0, features=DenseVector([243.4214, 17.0, 5.0, 4.0, 7.0, 0.0, 2.0, 275.0, 313.0, 68.0, 31.0, 0.0, 350.0, 381.0, 0.0, 5.0, 1.0]), scaledFeatures=DenseVector([0.342, 0.0239, 0.007, 0.0056, 0.0098, 0.0, 0.0028, 0.3864, 0.4398, 0.0955, 0.0436, 0.0, 0.4918, 0.5353, 0.0, 0.007, 0.0014]))"
      ]
     },
     "execution_count": 48,
     "metadata": {},
     "output_type": "execute_result"
    }
   ],
   "source": [
    "train_Vect.head()"
   ]
  },
  {
   "cell_type": "code",
   "execution_count": 52,
   "metadata": {},
   "outputs": [
    {
     "data": {
      "text/plain": [
       "Row(Id='100010', length=243.421444909091, dislikes=5, likes=17, friend_adds=4, playlist_adds=7, downgraded=0, upgraded=2, NumSongs=275, method_put=313, method_get=68, gender='F', status_307=31, status_404=0, status_200=350, level_free=381, level_paid=0, logOuts=5, label=0, gender_indexed=1.0, features=DenseVector([243.4214, 17.0, 5.0, 4.0, 7.0, 0.0, 2.0, 275.0, 313.0, 68.0, 31.0, 0.0, 350.0, 381.0, 0.0, 5.0, 1.0]), scaledFeatures=DenseVector([0.446, 0.0389, 0.0667, 0.028, 0.0292, 0.0, 0.1429, 0.034, 0.0346, 0.1009, 0.0433, 0.0, 0.0386, 0.2056, 0.0, 0.0403, 1.0]))"
      ]
     },
     "execution_count": 52,
     "metadata": {},
     "output_type": "execute_result"
    }
   ],
   "source": [
    "train_Vect.head()"
   ]
  },
  {
   "cell_type": "code",
   "execution_count": 53,
   "metadata": {},
   "outputs": [],
   "source": [
    "#PCA_fitted = pipeline1.fit(train_set)\n",
    "\n",
    "#Apply principal component analysis to reduce number of features to the most important features\n",
    "#pca = PCA(k= 10, inputCol=\"scaledFeatures\", outputCol=\"pcaFeatures\")\n",
    "#train_PCA = PCA_fitted.transform(train_set).select(\"pcaFeatures\")\n",
    "#train_PCA.show(truncate=False)"
   ]
  },
  {
   "cell_type": "code",
   "execution_count": 54,
   "metadata": {},
   "outputs": [],
   "source": [
    "del(PCA_fitted)"
   ]
  },
  {
   "cell_type": "code",
   "execution_count": 55,
   "metadata": {},
   "outputs": [
    {
     "data": {
      "text/plain": [
       "DenseVector([0.5165, 0.3364, 0.0589, 0.0287, 0.0248, 0.0135, 0.0077, 0.0072, 0.0033, 0.0014, 0.0008, 0.0005, 0.0003, 0.0, 0.0, 0.0])"
      ]
     },
     "execution_count": 55,
     "metadata": {},
     "output_type": "execute_result"
    }
   ],
   "source": [
    "#Apply principal component analysis to reduce number of features to the most important features\n",
    "pca = PCA(k= 16, inputCol=\"scaledFeatures\", outputCol=\"pcaFeatures\")\n",
    "\n",
    "PCA_fitted = pca.fit(train_Vect)\n",
    "PCA_fitted.explainedVariance"
   ]
  },
  {
   "cell_type": "markdown",
   "metadata": {},
   "source": [
    "The first most important 10 features account for more than 99.9 percent of the variance, and so I will only limit my k values to 10 features"
   ]
  },
  {
   "cell_type": "code",
   "execution_count": null,
   "metadata": {},
   "outputs": [],
   "source": []
  },
  {
   "cell_type": "markdown",
   "metadata": {},
   "source": [
    "#### Weighting:\n",
    "\n",
    "Define a udf that will assign  to evry minority class, and ratio of majority to total number of samples on every majority class. This is in a bid to mitigate the effects of oversampling bias against the minority samples on the dataset, and the predictions to come using the different  machine learning models"
   ]
  },
  {
   "cell_type": "code",
   "execution_count": 56,
   "metadata": {},
   "outputs": [],
   "source": [
    "#ratio of sampling of majority class over the total samples\n",
    "\n",
    "w_factor = stayed.count()/df.count()"
   ]
  },
  {
   "cell_type": "code",
   "execution_count": 57,
   "metadata": {},
   "outputs": [
    {
     "data": {
      "text/plain": [
       "0.8142757417102967"
      ]
     },
     "execution_count": 57,
     "metadata": {},
     "output_type": "execute_result"
    }
   ],
   "source": [
    "w_factor"
   ]
  },
  {
   "cell_type": "code",
   "execution_count": 73,
   "metadata": {},
   "outputs": [],
   "source": [
    "#Define a udf to apply weighting\n",
    "\n",
    "weigh_col = udf(lambda x: 1 if x==1 else w_factor)\n",
    "\n",
    "#Appy the udf on the dataframe\n",
    "\n",
    "df_ready = df_ready.withColumn('classWeights', weigh_col(df_ready.label).cast('float'))"
   ]
  },
  {
   "cell_type": "code",
   "execution_count": 74,
   "metadata": {},
   "outputs": [
    {
     "name": "stdout",
     "output_type": "stream",
     "text": [
      "+------+------------------+--------+-----+-----------+-------------+----------+--------+--------+----------+----------+------+----------+----------+----------+----------+----------+-------+-----+------------+\n",
      "|    Id|            length|dislikes|likes|friend_adds|playlist_adds|downgraded|upgraded|NumSongs|method_put|method_get|gender|status_307|status_404|status_200|level_free|level_paid|logOuts|label|classWeights|\n",
      "+------+------------------+--------+-----+-----------+-------------+----------+--------+--------+----------+----------+------+----------+----------+----------+----------+----------+-------+-----+------------+\n",
      "|100010|  243.421444909091|       5|   17|          4|            7|         0|       2|     275|       313|        68|     F|        31|         0|       350|       381|         0|      5|    0|  0.81427574|\n",
      "|200002|242.91699209302305|       6|   21|          4|            8|         5|       2|     387|       432|        42|     M|        37|         0|       437|       120|       354|      5|    0|  0.81427574|\n",
      "|   125|261.13913750000006|       0|    0|          0|            0|         0|       0|       8|         9|         2|     M|         1|         0|        10|        11|         0|      0|    1|         1.0|\n",
      "|   124|248.17653659965674|      41|  171|         74|          118|        41|       0|    4079|      4548|       277|     F|       351|         6|      4468|         0|      4825|     59|    0|  0.81427574|\n",
      "|    51|247.88055082899118|      21|  100|         28|           52|        23|       0|    2111|      2338|       126|     M|       175|         1|      2288|         0|      2464|     24|    1|         1.0|\n",
      "+------+------------------+--------+-----+-----------+-------------+----------+--------+--------+----------+----------+------+----------+----------+----------+----------+----------+-------+-----+------------+\n",
      "only showing top 5 rows\n",
      "\n"
     ]
    }
   ],
   "source": [
    "df_ready.show(5)"
   ]
  },
  {
   "cell_type": "markdown",
   "metadata": {},
   "source": [
    "# Modeling\n",
    "Split the full dataset into train, test, and validation sets. Test out several of the machine learning methods you learned. Evaluate the accuracy of the various models, tuning parameters as necessary. Determine your winning model based on test accuracy and report results on the validation set."
   ]
  },
  {
   "cell_type": "markdown",
   "metadata": {},
   "source": [
    "First I will define a baseline model - using logistic regression.\n",
    "Then, I will further use grid search to tune the best performing parameters for various models. Further I will apply the\n",
    "best perfroming on the validation set."
   ]
  },
  {
   "cell_type": "markdown",
   "metadata": {},
   "source": [
    "### Split into Train and Test datasets:\n",
    "Split datasets into train and test sets in the ratio of (0.75, 0.25)"
   ]
  },
  {
   "cell_type": "code",
   "execution_count": 75,
   "metadata": {},
   "outputs": [],
   "source": [
    "train_set, test_set = df_ready.randomSplit([0.75,0.25], seed = 5)"
   ]
  },
  {
   "cell_type": "code",
   "execution_count": 76,
   "metadata": {},
   "outputs": [
    {
     "data": {
      "text/plain": [
       "DataFrame[Id: string, length: double, dislikes: bigint, likes: bigint, friend_adds: bigint, playlist_adds: bigint, downgraded: bigint, upgraded: bigint, NumSongs: bigint, method_put: bigint, method_get: bigint, gender: string, status_307: bigint, status_404: bigint, status_200: bigint, level_free: bigint, level_paid: bigint, logOuts: bigint, label: int, classWeights: float]"
      ]
     },
     "execution_count": 76,
     "metadata": {},
     "output_type": "execute_result"
    }
   ],
   "source": [
    "train_set.persist()"
   ]
  },
  {
   "cell_type": "markdown",
   "metadata": {},
   "source": [
    "### Baseline Model -  LogisticRegression"
   ]
  },
  {
   "cell_type": "code",
   "execution_count": 84,
   "metadata": {},
   "outputs": [],
   "source": [
    "#LogisticRegression\n",
    "\n",
    "#Apply string Indexer on the genger column\n",
    "Indexer1 = StringIndexer(inputCol = 'gender', outputCol = 'gender_indexed')\n",
    "#Assemble features into one \n",
    "assembler = VectorAssembler(inputCols=['length', 'likes', 'dislikes', 'friend_adds', 'playlist_adds','logOuts', 'downgraded', \\\n",
    "                                           'upgraded','NumSongs', 'method_put', 'method_get', 'status_307', 'status_404',\\\n",
    "                                           'status_200', 'level_free', 'level_paid', 'gender_indexed'], outputCol=\"features\")\n",
    "\n",
    "\n",
    "    \n",
    "#use Normalizer to normalize features\n",
    "#NScaler = Normalizer(inputCol = 'pcaFeatures', outputCol = 'scaledFeatures')\n",
    "NScaler = MinMaxScaler(inputCol = 'features', outputCol = 'scaledFeatures')\n",
    "\n",
    "#Apply principal component analysis to reduce number of features to the most important features\n",
    "pca = PCA(k=10, inputCol=\"scaledFeatures\", outputCol=\"pcaFeatures\")\n",
    "\n",
    "#modeler = LogisticRegression(fitIntercept = False, family=\"multinomial\", featuresCol = 'scaledFeatures')odeler = model\n",
    "\n",
    "#1\n",
    "\n",
    "modeler = LogisticRegression(fitIntercept = False, family=\"multinomial\", featuresCol = 'pcaFeatures', maxIter = 10,\\\n",
    "                             regParam=0.3, elasticNetParam=0.8, weightCol = 'classWeights')\n",
    "\n",
    "#2\n",
    "\n",
    "#modeler = LogisticRegression(fitIntercept = False, family=\"multinomial\", featuresCol = 'scaledFeatures', maxIter = 10,\\\n",
    "#                             regParam=0.3, elasticNetParam=0.5)\n",
    "\n",
    "#Design a pipeline to run through all the modeling process\n",
    "pipeline = Pipeline(stages=[Indexer1, assembler, NScaler, pca, modeler])\n"
   ]
  },
  {
   "cell_type": "code",
   "execution_count": 85,
   "metadata": {},
   "outputs": [],
   "source": [
    "del(best_model)"
   ]
  },
  {
   "cell_type": "code",
   "execution_count": 86,
   "metadata": {},
   "outputs": [],
   "source": [
    "best_model = pipeline.fit(train_set)"
   ]
  },
  {
   "cell_type": "code",
   "execution_count": 88,
   "metadata": {},
   "outputs": [],
   "source": [
    "best_model.save(\"LRmodel_3\")"
   ]
  },
  {
   "cell_type": "code",
   "execution_count": 89,
   "metadata": {},
   "outputs": [],
   "source": [
    "path = \"LRmodel_3\"\n",
    "LR_mod = PipelineModel.load(path)"
   ]
  },
  {
   "cell_type": "code",
   "execution_count": null,
   "metadata": {},
   "outputs": [],
   "source": [
    "def model_():\n",
    "    "
   ]
  },
  {
   "cell_type": "code",
   "execution_count": 113,
   "metadata": {},
   "outputs": [],
   "source": [
    "def evaluate_model(built_model, model_name, testing_set, evaluator = MulticlassClassificationEvaluator()):\n",
    "    \n",
    "    '''\n",
    "    Function to evaluate the performance of a model. it returns the important score metrics \n",
    "    Args:\n",
    "        build_model - the model already trained whose performance is to be evaluated.\n",
    "        testing_set - the dataset which the model is to be tested on, could be train, test, or validation.\n",
    "        evaluator - the type of evaluator, default is BinaryClassificationEvaluator.\n",
    "    Returns:\n",
    "        Print important metrics including Accuracy and Recall\n",
    "    '''\n",
    "    #Number of possible predictions\n",
    "    gh = testing_set.count()\n",
    "    \n",
    "    #make predictions\n",
    "    pred_results = built_model.transform(testing_set).select(\"features\", \"label\", \"prediction\")\n",
    "    \n",
    "    #define an object of the evaluator\n",
    "    #evaluator = BinaryClassificationEvaluator(metric = a)\n",
    "    evaluator = evaluator\n",
    "    \n",
    "    #compute all the important metrics\n",
    "    TPTN = pred_results.filter(pred_results.label == pred_results.prediction).count()#True Positive  and True Negative\n",
    "    print(f\"The Accuracy of {model_name}  is: {TPTN/gh}\")\n",
    "    \n",
    "    #True Positives\n",
    "    TP = pred_results.filter(pred_results.label == pred_results.prediction).where(col('prediction') == 1).count()\n",
    "    \n",
    "    #True Negatives\n",
    "    FN = pred_results.filter(pred_results.label != pred_results.prediction).where(col('prediction') == 0).count()\n",
    "    \n",
    "    #Recall\n",
    "    Recall = TP/(TP+FN)\n",
    "    print(f\"The Recall of {model_name}  is: {Recall}\")\n",
    "    \n",
    "    F1 = evaluator.evaluate(pred_results)\n",
    "    print(f\"The F1-score of {model_name}  is: {F1}\")\n"
   ]
  },
  {
   "cell_type": "code",
   "execution_count": 90,
   "metadata": {},
   "outputs": [],
   "source": [
    "#Use model to make predictions\n",
    "\n",
    "pred_results = LR_mod.transform(test_set)\\\n",
    "    .select(\"id\", \"label\", \"prediction\")"
   ]
  },
  {
   "cell_type": "code",
   "execution_count": 91,
   "metadata": {},
   "outputs": [
    {
     "name": "stdout",
     "output_type": "stream",
     "text": [
      "+------+-----+----------+\n",
      "|    id|label|prediction|\n",
      "+------+-----+----------+\n",
      "|    87|    1|       0.0|\n",
      "|100005|    1|       0.0|\n",
      "|    53|    1|       0.0|\n",
      "|   122|    1|       0.0|\n",
      "|    58|    1|       0.0|\n",
      "|100012|    1|       0.0|\n",
      "|200018|    1|       0.0|\n",
      "|200020|    1|       0.0|\n",
      "|200001|    1|       0.0|\n",
      "|100017|    1|       0.0|\n",
      "+------+-----+----------+\n",
      "\n"
     ]
    }
   ],
   "source": [
    "#Find out if there is a prediction of a churn user\n",
    "\n",
    "pred_results.select('*').where(col('label') == 1).show()"
   ]
  },
  {
   "cell_type": "code",
   "execution_count": 20,
   "metadata": {},
   "outputs": [],
   "source": [
    "#Define the evaluator object\n",
    "\n",
    "evaluator = MulticlassClassificationEvaluator()"
   ]
  },
  {
   "cell_type": "code",
   "execution_count": 21,
   "metadata": {},
   "outputs": [],
   "source": [
    "TPTN = pred_results.filter(pred_results.label == pred_results.prediction).count()#True Positive  and True Negative"
   ]
  },
  {
   "cell_type": "code",
   "execution_count": 22,
   "metadata": {},
   "outputs": [],
   "source": [
    "TP = pred_results.filter(pred_results.label == pred_results.prediction).where(col('prediction') == 1).count()#TruePositivesOnly"
   ]
  },
  {
   "cell_type": "code",
   "execution_count": 23,
   "metadata": {},
   "outputs": [],
   "source": [
    "FN = pred_results.filter(pred_results.label != pred_results.prediction).where(col('prediction') == 0).count()#FalseNegatives"
   ]
  },
  {
   "cell_type": "code",
   "execution_count": 24,
   "metadata": {},
   "outputs": [
    {
     "data": {
      "text/plain": [
       "0.0"
      ]
     },
     "execution_count": 24,
     "metadata": {},
     "output_type": "execute_result"
    }
   ],
   "source": [
    "#Recall\n",
    "\n",
    "Recall = TP/(TP+FN)\n",
    "Recall"
   ]
  },
  {
   "cell_type": "code",
   "execution_count": 25,
   "metadata": {},
   "outputs": [],
   "source": [
    "#Total predictables\n",
    "\n",
    "gh = test_set.count()#Total"
   ]
  },
  {
   "cell_type": "code",
   "execution_count": 28,
   "metadata": {},
   "outputs": [
    {
     "data": {
      "text/plain": [
       "0.726808176100629"
      ]
     },
     "execution_count": 28,
     "metadata": {},
     "output_type": "execute_result"
    }
   ],
   "source": [
    "#F1 score\n",
    "\n",
    "F1 = evaluator.evaluate(pred_results)\n",
    "F1"
   ]
  },
  {
   "cell_type": "code",
   "execution_count": 29,
   "metadata": {},
   "outputs": [
    {
     "data": {
      "text/plain": [
       "0.8113207547169812"
      ]
     },
     "execution_count": 29,
     "metadata": {},
     "output_type": "execute_result"
    }
   ],
   "source": [
    "#Accuracy\n",
    "\n",
    "Accuracy = TPTN/gh\n",
    "Accuracy"
   ]
  },
  {
   "cell_type": "markdown",
   "metadata": {},
   "source": [
    "### RandomForest - \n",
    "Cross Validation and Grid search"
   ]
  },
  {
   "cell_type": "code",
   "execution_count": 93,
   "metadata": {},
   "outputs": [],
   "source": [
    "#Apply string Indexer on the genger column\n",
    "Indexer1 = StringIndexer(inputCol = 'gender', outputCol = 'gender_indexed')\n",
    "\n",
    "#Assemble features into one \n",
    "assembler = VectorAssembler(inputCols=['length', 'likes', 'dislikes', 'friend_adds', 'playlist_adds','logOuts', 'downgraded', \\\n",
    "                                           'upgraded','NumSongs', 'method_put', 'method_get', 'status_307', 'status_404',\\\n",
    "                                           'status_200', 'level_free', 'level_paid', 'gender_indexed'], outputCol=\"features\")\n",
    "    \n",
    "#Normalizer not needed in RandomForests\n",
    "NScaler = MinMaxScaler(inputCol = 'features', outputCol = 'scaledFeatures')\n",
    "\n",
    "\n",
    "#Apply principal component analysis to reduce number of features to the most important features\n",
    "pca = PCA(k=10, inputCol=\"scaledFeatures\", outputCol=\"pcaFeatures\")\n",
    "#modeler = RandomForestClassifier(labelCol=\"label\", featuresCol=\"features\", numTrees = 8, maxDepth = 4)\n",
    "modeler = RandomForestClassifier(featuresCol = 'pcaFeatures')#RandomForest Classifier\n",
    "\n",
    "#Design a pipeline to run through all the modeling process\n",
    "pipeline = Pipeline(stages=[Indexer1, assembler, NScaler, pca, modeler])\n",
    "\n",
    "paramGrid = []\n",
    "\n",
    "#RandomForest\n",
    "paramGrid.append((ParamGridBuilder() \\\n",
    "                  .addGrid(modeler.numTrees, [5, 8, 10, 15])\\\n",
    "                  .addGrid(modeler.maxDepth, [4,8]) \\\n",
    "                  .build()))"
   ]
  },
  {
   "cell_type": "code",
   "execution_count": 25,
   "metadata": {},
   "outputs": [],
   "source": [
    "#Apply cross validation to search through the grid parmeters for the best performing \n",
    "\n",
    "cross_val = CrossValidator(estimator = pipeline,\n",
    "                           estimatorParamMaps = paramGrid[0],\n",
    "                           evaluator = MulticlassClassificationEvaluator(),\n",
    "                           numFolds = 3)"
   ]
  },
  {
   "cell_type": "code",
   "execution_count": 30,
   "metadata": {},
   "outputs": [],
   "source": [
    "#Set threshold parameters to prevent crash of jobs\n",
    "\n",
    "spark.conf.set(\"spark.sql.broadcastTimeout\", 50000)\n",
    "spark.conf.set(\"spark.driver.memory\", \"10g\")"
   ]
  },
  {
   "cell_type": "code",
   "execution_count": 31,
   "metadata": {},
   "outputs": [],
   "source": [
    "#Fit model to test set\n",
    "best_model2 = cross_val.fit(train_set)"
   ]
  },
  {
   "cell_type": "code",
   "execution_count": 35,
   "metadata": {},
   "outputs": [],
   "source": [
    "best_model2.bestModel.save('best_rF_model1')#Save model "
   ]
  },
  {
   "cell_type": "code",
   "execution_count": 33,
   "metadata": {},
   "outputs": [],
   "source": [
    "path = \"best_rF_model1\""
   ]
  },
  {
   "cell_type": "code",
   "execution_count": 34,
   "metadata": {},
   "outputs": [],
   "source": [
    "RF_mod = PipelineModel.load(path)#Load model"
   ]
  },
  {
   "cell_type": "markdown",
   "metadata": {},
   "source": [
    "#### Obtain best perfroming parameters from parameters grid"
   ]
  },
  {
   "cell_type": "code",
   "execution_count": 36,
   "metadata": {},
   "outputs": [
    {
     "data": {
      "text/plain": [
       "8"
      ]
     },
     "execution_count": 36,
     "metadata": {},
     "output_type": "execute_result"
    }
   ],
   "source": [
    "java_model = RF_mod.stages[-1]._java_obj\n",
    "#best Model's number of trees\n",
    "\n",
    "java_model.getNumTrees()"
   ]
  },
  {
   "cell_type": "code",
   "execution_count": 76,
   "metadata": {},
   "outputs": [
    {
     "data": {
      "text/plain": [
       "4"
      ]
     },
     "execution_count": 76,
     "metadata": {},
     "output_type": "execute_result"
    }
   ],
   "source": [
    "#Best model's max depth\n",
    "\n",
    "java_model.getMaxDepth()"
   ]
  },
  {
   "cell_type": "code",
   "execution_count": null,
   "metadata": {},
   "outputs": [],
   "source": [
    "#Use  F1-score so you can determine how well the model can distinguish between the two classes in its predictions. If it predicts \n",
    "# a 1 as 1 and a 0 as 0. Ie how much the model can get the different classes right"
   ]
  },
  {
   "cell_type": "code",
   "execution_count": 21,
   "metadata": {},
   "outputs": [],
   "source": [
    "#make predictions\n",
    "\n",
    "pred_results = RF_mod.transform(test_set)\\\n",
    "    .select('id', \"label\", \"prediction\")"
   ]
  },
  {
   "cell_type": "code",
   "execution_count": 24,
   "metadata": {},
   "outputs": [],
   "source": [
    "#Define an evaluator object\n",
    "\n",
    "evaluator = MulticlassClassificationEvaluator()"
   ]
  },
  {
   "cell_type": "code",
   "execution_count": 25,
   "metadata": {},
   "outputs": [],
   "source": [
    "TPTN = pred_results.filter(pred_results.label == pred_results.prediction).count()#True Positive  and True Negative"
   ]
  },
  {
   "cell_type": "code",
   "execution_count": 28,
   "metadata": {},
   "outputs": [],
   "source": [
    "TP = pred_results.filter(pred_results.label == pred_results.prediction).where(col('prediction') == 1).count() #TruePositives"
   ]
  },
  {
   "cell_type": "code",
   "execution_count": 29,
   "metadata": {},
   "outputs": [],
   "source": [
    "FN = pred_results.filter(pred_results.label != pred_results.prediction).where(col('prediction') == 0).count()#FalseNegatives"
   ]
  },
  {
   "cell_type": "code",
   "execution_count": 30,
   "metadata": {},
   "outputs": [],
   "source": [
    "gh = test_set.count()#Total"
   ]
  },
  {
   "cell_type": "code",
   "execution_count": 31,
   "metadata": {},
   "outputs": [],
   "source": [
    "#Recall\n",
    "\n",
    "Recall = TP/(TP+FN)"
   ]
  },
  {
   "cell_type": "code",
   "execution_count": 32,
   "metadata": {},
   "outputs": [
    {
     "data": {
      "text/plain": [
       "0.1"
      ]
     },
     "execution_count": 32,
     "metadata": {},
     "output_type": "execute_result"
    }
   ],
   "source": [
    "Recall"
   ]
  },
  {
   "cell_type": "code",
   "execution_count": 38,
   "metadata": {},
   "outputs": [
    {
     "data": {
      "text/plain": [
       "0.732450486347123"
      ]
     },
     "execution_count": 38,
     "metadata": {},
     "output_type": "execute_result"
    }
   ],
   "source": [
    "#F1 score\n",
    "\n",
    "F1 = evaluator.evaluate(pred_results)\n",
    "F1"
   ]
  },
  {
   "cell_type": "code",
   "execution_count": 37,
   "metadata": {},
   "outputs": [
    {
     "data": {
      "text/plain": [
       "0.7735849056603774"
      ]
     },
     "execution_count": 37,
     "metadata": {},
     "output_type": "execute_result"
    }
   ],
   "source": [
    "#Accuracy\n",
    "\n",
    "Accuracy = TPTN/gh\n",
    "Accuracy"
   ]
  },
  {
   "cell_type": "code",
   "execution_count": 35,
   "metadata": {},
   "outputs": [
    {
     "name": "stdout",
     "output_type": "stream",
     "text": [
      "+------+-----+----------+\n",
      "|    id|label|prediction|\n",
      "+------+-----+----------+\n",
      "|   139|    0|       1.0|\n",
      "|100004|    0|       1.0|\n",
      "|300014|    0|       1.0|\n",
      "|100012|    1|       1.0|\n",
      "+------+-----+----------+\n",
      "\n"
     ]
    }
   ],
   "source": [
    "pred_results.filter(pred_results.prediction == 1).select('id', 'label', 'prediction').show()"
   ]
  },
  {
   "cell_type": "code",
   "execution_count": 97,
   "metadata": {},
   "outputs": [],
   "source": []
  },
  {
   "cell_type": "code",
   "execution_count": 98,
   "metadata": {},
   "outputs": [
    {
     "name": "stdout",
     "output_type": "stream",
     "text": [
      "+------+-----+----------+\n",
      "|    id|label|prediction|\n",
      "+------+-----+----------+\n",
      "|   139|    0|       1.0|\n",
      "|300014|    0|       1.0|\n",
      "|100012|    1|       1.0|\n",
      "+------+-----+----------+\n",
      "\n"
     ]
    }
   ],
   "source": [
    "pred_results.filter(pred_results.prediction == 1).select('id', 'label', 'prediction').show()"
   ]
  },
  {
   "cell_type": "markdown",
   "metadata": {},
   "source": [
    "### Decision Trees\n",
    "Cross validation and grid search"
   ]
  },
  {
   "cell_type": "code",
   "execution_count": 21,
   "metadata": {},
   "outputs": [],
   "source": [
    "#Encoder the gender column\n",
    "Indexer1 = StringIndexer(inputCol = 'gender', outputCol = 'gender_indexed')\n",
    "\n",
    "#Assemble features into one\n",
    "assembler = VectorAssembler(inputCols=['length', 'likes', 'dislikes', 'friend_adds', 'playlist_adds', 'downgraded', \\\n",
    "                                           'upgraded','NumSongs', 'method_put', 'method_get', 'status_307', 'status_404',\\\n",
    "                                           'status_200', 'level_free', 'level_paid', 'gender_indexed'], outputCol=\"features\")\n",
    "\n",
    "#certain parameters as numClasses is equal to 2, \n",
    "modeler = DecisionTreeClassifier(labelCol=\"label\", featuresCol=\"features\")#DecisionTree Classifier\n",
    "\n",
    "pipeline = Pipeline(stages=[Indexer1, assembler, modeler])\n",
    "\n",
    "paramGrid = []\n",
    "\n",
    "#DecisionTree\n",
    "paramGrid.append((ParamGridBuilder() \\\n",
    "                  .addGrid(modeler.maxDepth, [1,2,3, 4]) \\\n",
    "                  .addGrid(modeler.maxBins, [2,10,32]) \\\n",
    "                  .build()))"
   ]
  },
  {
   "cell_type": "code",
   "execution_count": 21,
   "metadata": {},
   "outputs": [],
   "source": [
    "spark.conf.set(\"spark.sql.broadcastTimeout\", 50000)\n",
    "spark.conf.set(\"spark.driver.memory\", \"10g\")"
   ]
  },
  {
   "cell_type": "code",
   "execution_count": 23,
   "metadata": {},
   "outputs": [],
   "source": [
    "#Apply cross validation to search through the grid parmeters for the best performing \n",
    "\n",
    "cross_val = CrossValidator(estimator = pipeline,\n",
    "                           estimatorParamMaps = paramGrid[0],\n",
    "                           evaluator = BinaryClassificationEvaluator(),\n",
    "                           numFolds = 3)\n",
    "\n",
    "#Fit model to test set\n",
    "DT_model = cross_val.fit(train_set)\n",
    "\n",
    "# Save and load model\n",
    "DT_model.bestModel.save(\"DTreeModel_CV\")\n",
    "\n",
    "#path = \"DTreeModel_CV\"\n",
    "#test_mod = PipelineModel.load(pathModel)"
   ]
  },
  {
   "cell_type": "code",
   "execution_count": 28,
   "metadata": {},
   "outputs": [
    {
     "data": {
      "text/plain": [
       "3"
      ]
     },
     "execution_count": 28,
     "metadata": {},
     "output_type": "execute_result"
    }
   ],
   "source": [
    "#Get model's best perfroming parameters\n",
    "\n",
    "java_model = DT_model.bestModel.stages[-1]._java_obj\n",
    "#best Model's max depth choice\n",
    "\n",
    "java_model.getMaxDepth()"
   ]
  },
  {
   "cell_type": "code",
   "execution_count": 29,
   "metadata": {},
   "outputs": [
    {
     "data": {
      "text/plain": [
       "32"
      ]
     },
     "execution_count": 29,
     "metadata": {},
     "output_type": "execute_result"
    }
   ],
   "source": [
    "#Model's best performing Max Bins\n",
    "\n",
    "java_model.getMaxBins()"
   ]
  },
  {
   "cell_type": "code",
   "execution_count": 37,
   "metadata": {},
   "outputs": [],
   "source": [
    "path = \"DTreeModel_CV\""
   ]
  },
  {
   "cell_type": "code",
   "execution_count": 38,
   "metadata": {},
   "outputs": [],
   "source": [
    "DT_mod = PipelineModel.load(path)"
   ]
  },
  {
   "cell_type": "code",
   "execution_count": 41,
   "metadata": {},
   "outputs": [],
   "source": [
    "#Make predictions\n",
    "\n",
    "pred_results = DT_mod.transform(test_set)\\\n",
    "    .select('id', \"label\", \"prediction\")"
   ]
  },
  {
   "cell_type": "code",
   "execution_count": 43,
   "metadata": {},
   "outputs": [
    {
     "data": {
      "text/plain": [
       "0.7635634805446126"
      ]
     },
     "execution_count": 43,
     "metadata": {},
     "output_type": "execute_result"
    }
   ],
   "source": [
    "#F1-score\n",
    "\n",
    "F1 = evaluator.evaluate(pred_results)\n",
    "F1"
   ]
  },
  {
   "cell_type": "code",
   "execution_count": 44,
   "metadata": {},
   "outputs": [],
   "source": [
    "TP = pred_results.filter(pred_results.label == pred_results.prediction).where(col('prediction') == 1).count() #TruePositives"
   ]
  },
  {
   "cell_type": "code",
   "execution_count": 45,
   "metadata": {},
   "outputs": [],
   "source": [
    "TPTN = pred_results.filter(pred_results.label == pred_results.prediction).count()#True Positive  and True Negative"
   ]
  },
  {
   "cell_type": "code",
   "execution_count": 46,
   "metadata": {},
   "outputs": [],
   "source": [
    "FN = pred_results.filter(pred_results.label != pred_results.prediction).where(col('prediction') == 0).count()#FalseNegatives"
   ]
  },
  {
   "cell_type": "code",
   "execution_count": 47,
   "metadata": {},
   "outputs": [
    {
     "data": {
      "text/plain": [
       "0.2"
      ]
     },
     "execution_count": 47,
     "metadata": {},
     "output_type": "execute_result"
    }
   ],
   "source": [
    "#Recall\n",
    "\n",
    "Recall = TP/(TP+FN)\n",
    "Recall"
   ]
  },
  {
   "cell_type": "code",
   "execution_count": 48,
   "metadata": {},
   "outputs": [
    {
     "data": {
      "text/plain": [
       "0.7924528301886793"
      ]
     },
     "execution_count": 48,
     "metadata": {},
     "output_type": "execute_result"
    }
   ],
   "source": [
    "#Accuracy\n",
    "\n",
    "Accuracy = TPTN/gh\n",
    "Accuracy"
   ]
  },
  {
   "cell_type": "code",
   "execution_count": 96,
   "metadata": {},
   "outputs": [
    {
     "name": "stdout",
     "output_type": "stream",
     "text": [
      "+-----+----------+\n",
      "|label|prediction|\n",
      "+-----+----------+\n",
      "|    0|       1.0|\n",
      "|    0|       1.0|\n",
      "|    0|       1.0|\n",
      "|    1|       1.0|\n",
      "|    1|       1.0|\n",
      "+-----+----------+\n",
      "\n"
     ]
    }
   ],
   "source": [
    "#How much of the churn users predictions were accurate\n",
    "\n",
    "pred_results.select(\"label\", \"prediction\").where(col('prediction') == 1).show()"
   ]
  },
  {
   "cell_type": "markdown",
   "metadata": {},
   "source": [
    "##### Repeat After new features were engineered and  Applying PCA"
   ]
  },
  {
   "cell_type": "code",
   "execution_count": 110,
   "metadata": {},
   "outputs": [],
   "source": [
    "#Apply string Indexer on the genger column\n",
    "Indexer1 = StringIndexer(inputCol = 'gender', outputCol = 'gender_indexed')\n",
    "\n",
    "#Assemble features into one \n",
    "assembler = VectorAssembler(inputCols=['length', 'likes', 'dislikes', 'friend_adds', 'playlist_adds','logOuts', 'downgraded', \\\n",
    "                                           'upgraded','NumSongs', 'method_put', 'method_get', 'status_307', 'status_404',\\\n",
    "                                           'status_200', 'level_free', 'level_paid', 'gender_indexed'], outputCol=\"features\")\n",
    "    \n",
    "#Normalizer not needed in RandomForests\n",
    "#NScaler = MinMaxScaler(inputCol = 'features', outputCol = 'scaledFeatures')\n",
    "\n",
    "\n",
    "#Apply principal component analysis to reduce number of features to the most important features\n",
    "pca = PCA(k=10, inputCol=\"features\", outputCol=\"pcaFeatures\")\n",
    "\n",
    "#modeler = NaiveBayes(labelCol=\"label\", featuresCol=\"pcaFeatures\", weightCol = 'classWeights')\n",
    "#modeler = RandomForestClassifier(featuresCol = 'pcaFeatures')#RandomForest Classifier\n",
    "modeler = DecisionTreeClassifier(labelCol=\"label\", featuresCol=\"pcaFeatures\", maxDepth = 3, maxBins = 32)\n",
    "\n",
    "#Design a pipeline to run through all the modeling process\n",
    "pipeline2 = Pipeline(stages=[Indexer1, assembler, pca, modeler])"
   ]
  },
  {
   "cell_type": "code",
   "execution_count": 111,
   "metadata": {},
   "outputs": [],
   "source": [
    "DT_mod = pipeline2.fit(train_set)\n",
    "#make predictions\n",
    "\n",
    "pred_results = DT_mod.transform(test_set)\\\n",
    "    .select('id', \"label\", \"prediction\")"
   ]
  },
  {
   "cell_type": "code",
   "execution_count": 112,
   "metadata": {},
   "outputs": [
    {
     "name": "stdout",
     "output_type": "stream",
     "text": [
      "+-----+----------+\n",
      "|label|prediction|\n",
      "+-----+----------+\n",
      "|    1|       1.0|\n",
      "|    1|       1.0|\n",
      "|    1|       1.0|\n",
      "|    1|       1.0|\n",
      "|    0|       1.0|\n",
      "+-----+----------+\n",
      "\n"
     ]
    }
   ],
   "source": [
    "#How much of the churn users predictions were accurate\n",
    "\n",
    "pred_results.select(\"label\", \"prediction\").where(col('prediction') == 1).show()"
   ]
  },
  {
   "cell_type": "code",
   "execution_count": 114,
   "metadata": {},
   "outputs": [
    {
     "name": "stdout",
     "output_type": "stream",
     "text": [
      "The Accuracy of DecisionTree  is: 0.8679245283018868\n",
      "The Recall of DecisionTree  is: 0.4\n",
      "The F1-score of DecisionTree  is: 0.8495403967102079\n"
     ]
    }
   ],
   "source": [
    "evaluate_model(DT_mod, 'DecisionTree', test_set, evaluator = MulticlassClassificationEvaluator())"
   ]
  },
  {
   "cell_type": "code",
   "execution_count": 55,
   "metadata": {},
   "outputs": [],
   "source": [
    "#feature_imp = RF_mod.featureImportances.values.tolist()"
   ]
  },
  {
   "cell_type": "code",
   "execution_count": null,
   "metadata": {},
   "outputs": [],
   "source": []
  },
  {
   "cell_type": "markdown",
   "metadata": {},
   "source": [
    "#### GradientBoostingTree"
   ]
  },
  {
   "cell_type": "code",
   "execution_count": 119,
   "metadata": {},
   "outputs": [],
   "source": [
    "#Apply string Indexer on the genger column\n",
    "Indexer1 = StringIndexer(inputCol = 'gender', outputCol = 'gender_indexed')\n",
    "\n",
    "#Assemble features into one \n",
    "assembler = VectorAssembler(inputCols=['length', 'likes', 'dislikes', 'friend_adds', 'playlist_adds','logOuts', 'downgraded', \\\n",
    "                                           'upgraded','NumSongs', 'method_put', 'method_get', 'status_307', 'status_404',\\\n",
    "                                           'status_200', 'level_free', 'level_paid', 'gender_indexed'], outputCol=\"features\")\n",
    "    \n",
    "#Normalizer not needed in RandomForests\n",
    "#NScaler = MinMaxScaler(inputCol = 'features', outputCol = 'scaledFeatures')\n",
    "\n",
    "\n",
    "#Apply principal component analysis to reduce number of features to the most important features\n",
    "pca = PCA(k=10, inputCol=\"features\", outputCol=\"pcaFeatures\")\n",
    "#modeler = RandomForestClassifier(labelCol=\"label\", featuresCol=\"features\", numTrees = 8, maxDepth = 4)\n",
    "modeler = GBTClassifier(featuresCol = 'pcaFeatures', maxIter = 10, )#GradBoostTree Classifier\n",
    "\n",
    "#Design a pipeline to run through all the modeling process\n",
    "pipeline = Pipeline(stages=[Indexer1, assembler,  pca, modeler])\n",
    "\n",
    "paramGrid = []\n",
    "\n",
    "#RandomForest\n",
    "paramGrid.append((ParamGridBuilder() \\\n",
    "                  .addGrid(modeler.maxDepth, [4,5, 8]) \\\n",
    "                  .build()))"
   ]
  },
  {
   "cell_type": "code",
   "execution_count": 118,
   "metadata": {},
   "outputs": [],
   "source": [
    "del(pipeline)"
   ]
  },
  {
   "cell_type": "code",
   "execution_count": 120,
   "metadata": {},
   "outputs": [],
   "source": [
    "#Apply cross validation to search through the grid parmeters for the best performing \n",
    "\n",
    "cross_val = CrossValidator(estimator = pipeline,\n",
    "                           estimatorParamMaps = paramGrid[0],\n",
    "                           evaluator = MulticlassClassificationEvaluator(),\n",
    "                           numFolds = 3)\n",
    "\n",
    "#Fit model to test set\n",
    "GBT_model = cross_val.fit(train_set)\n",
    "\n",
    "# Save and load model\n",
    "GBT_model.bestModel.save(\"GBTreeModel_CV\")\n",
    "\n",
    "path = \"GBTreeModel_CV\"\n",
    "GBT_mod = PipelineModel.load(path)"
   ]
  },
  {
   "cell_type": "code",
   "execution_count": 121,
   "metadata": {},
   "outputs": [
    {
     "data": {
      "text/plain": [
       "4"
      ]
     },
     "execution_count": 121,
     "metadata": {},
     "output_type": "execute_result"
    }
   ],
   "source": [
    "#Get model's best perfroming parameters\n",
    "\n",
    "java_model = GBT_model.bestModel.stages[-1]._java_obj\n",
    "#best Model's max depth choice\n",
    "\n",
    "java_model.getMaxDepth()"
   ]
  },
  {
   "cell_type": "code",
   "execution_count": 122,
   "metadata": {},
   "outputs": [],
   "source": [
    "#make predictions\n",
    "\n",
    "pred_results = GBT_mod.transform(test_set)\\\n",
    "    .select('id', \"label\", \"prediction\")"
   ]
  },
  {
   "cell_type": "code",
   "execution_count": 123,
   "metadata": {},
   "outputs": [
    {
     "name": "stdout",
     "output_type": "stream",
     "text": [
      "+-----+----------+\n",
      "|label|prediction|\n",
      "+-----+----------+\n",
      "|    0|       1.0|\n",
      "|    0|       1.0|\n",
      "|    0|       1.0|\n",
      "|    1|       1.0|\n",
      "|    0|       1.0|\n",
      "|    1|       1.0|\n",
      "|    1|       1.0|\n",
      "|    0|       1.0|\n",
      "|    1|       1.0|\n",
      "|    1|       1.0|\n",
      "|    1|       1.0|\n",
      "|    0|       1.0|\n",
      "+-----+----------+\n",
      "\n"
     ]
    }
   ],
   "source": [
    "#How much of the churn users predictions were accurate\n",
    "\n",
    "pred_results.select(\"label\", \"prediction\").where(col('prediction') == 1).show()"
   ]
  },
  {
   "cell_type": "code",
   "execution_count": 124,
   "metadata": {},
   "outputs": [
    {
     "name": "stdout",
     "output_type": "stream",
     "text": [
      "The Accuracy of GradBoostTree  is: 0.8113207547169812\n",
      "The Recall of GradBoostTree  is: 0.6\n",
      "The F1-score of GradBoostTree  is: 0.8176509025565629\n"
     ]
    }
   ],
   "source": [
    "evaluate_model(GBT_mod, 'GradBoostTree', test_set, evaluator = MulticlassClassificationEvaluator())"
   ]
  },
  {
   "cell_type": "markdown",
   "metadata": {},
   "source": [
    "This is a very good model. Even though the F1 score is slightly lower due to more False positive prediction than that of the DT"
   ]
  },
  {
   "cell_type": "code",
   "execution_count": 133,
   "metadata": {},
   "outputs": [],
   "source": [
    "#help(GBTClassifier)"
   ]
  },
  {
   "cell_type": "markdown",
   "metadata": {},
   "source": [
    "### OverSampling of churn Users using SMOTE"
   ]
  },
  {
   "cell_type": "code",
   "execution_count": 125,
   "metadata": {},
   "outputs": [],
   "source": [
    "#adapted this SMOTESampling code online from https://github.com/Angkirat/Smote-for-Spark/blob/master/PythonCode.py\n",
    "\n",
    "def SmoteSampling(vectorized, k = 5, minorityClass = 1, majorityClass = 0, percentageOver = 200, percentageUnder = 100):\n",
    "    '''\n",
    "    Function to apply Synthetic Minority Oversampling Technique (SMOTE) using pyspark on the train set so as to increase the\n",
    "    percentage of the minority class (label = 1)to equal that of the majority class (label = 0)\n",
    "    Args:\n",
    "        vectorized - the train set already in a vectorized format (apllied VectorAssembler)\n",
    "        minorityClass - the value of the label which contitute the minority in the label column\n",
    "        majorityClass - the value of the label which contitute the majority in the label column\n",
    "        percentageOver - how much you want the minority increased\n",
    "        percentageUnder - the current percentage value\n",
    "        k = \n",
    "    Returns:\n",
    "        built_model\n",
    "        evautor metric for the model\n",
    "    '''\n",
    "    \n",
    "    if(percentageUnder > 100|percentageUnder < 10):\n",
    "        raise ValueError(\"Percentage Under must be in range 10 - 100\");\n",
    "    if(percentageOver < 100):\n",
    "        raise ValueError(\"Percentage Over must be in at least 100\");\n",
    "    dataInput_min = vectorized[vectorized['label'] == minorityClass]\n",
    "    dataInput_maj = vectorized[vectorized['label'] == majorityClass]\n",
    "    feature = dataInput_min.select('features')\n",
    "    feature = feature.rdd\n",
    "    feature = feature.map(lambda x: x[0])\n",
    "    feature = feature.collect()\n",
    "    feature = np.asarray(feature)\n",
    "    nbrs = neighbors.NearestNeighbors(n_neighbors=k, algorithm='auto').fit(feature)\n",
    "    neighbours =  nbrs.kneighbors(feature)\n",
    "    gap = neighbours[0]\n",
    "    neighbours = neighbours[1]\n",
    "    min_rdd = dataInput_min.drop('label').rdd\n",
    "    pos_rddArray = min_rdd.map(lambda x : list(x))\n",
    "    pos_ListArray = pos_rddArray.collect()\n",
    "    min_Array = list(pos_ListArray)\n",
    "    newRows = []\n",
    "    nt = len(min_Array)\n",
    "    nexs = int(percentageOver/100)\n",
    "    for i in range(nt):\n",
    "        for j in range(nexs):\n",
    "            neigh = random.randint(1,k)\n",
    "            difs = min_Array[neigh][0] - min_Array[i][0]\n",
    "            newRec = (min_Array[i][0]+random.random()*difs)\n",
    "            newRows.insert(0,(newRec))\n",
    "    \n",
    "    newData_rdd = sc.parallelize(newRows)\n",
    "    newData_rdd_new = newData_rdd.map(lambda x: Row(features = x, label = 1))\n",
    "    new_data = newData_rdd_new.toDF()\n",
    "    new_data_minor = dataInput_min.unionAll(new_data)\n",
    "    new_data_major = dataInput_maj.sample(False, (float(percentageUnder)/float(100)))\n",
    "    return new_data_major.unionAll(new_data_minor)\n",
    "\n",
    "\n",
    "\n",
    "\n",
    "Indexer1 = StringIndexer(inputCol = 'gender', outputCol = 'gender_indexed')\n",
    "\n",
    "#Assemble features into one \n",
    "assembler = VectorAssembler(inputCols=['length', 'likes', 'dislikes', 'friend_adds', 'playlist_adds','logOuts', 'downgraded', \\\n",
    "                                           'upgraded','NumSongs', 'method_put', 'method_get', 'status_307', 'status_404',\\\n",
    "                                           'status_200', 'level_free', 'level_paid', 'gender_indexed'], outputCol=\"features\")\n",
    "\n",
    "#Define a pipeine that will apply both StringIndexing and vectorAssemby and any other needed transformation before applyin\n",
    "#smote\n",
    "\n",
    "pipeline1 = Pipeline(stages = [Indexer1, assembler])\n",
    "\n",
    "train_set1 = pipeline1.fit(train_set).transform(train_set)#transform the train set using the indexer and Assmebler\n",
    "train_set2 = train_set1.select('features', 'label')#bring out only the feature and label columns\n",
    "\n",
    "new_train = SmoteSampling(train_set2, k = 2, minorityClass = 1, majorityClass = 0)#apply Smote to the new train data\n",
    "\n",
    "test_set1 = pipeline1.fit(test_set).transform(test_set)#transform test_set to be in the form of train set, without adding rows\n"
   ]
  },
  {
   "cell_type": "code",
   "execution_count": 21,
   "metadata": {},
   "outputs": [
    {
     "data": {
      "text/plain": [
       "DataFrame[features: vector, label: bigint]"
      ]
     },
     "execution_count": 21,
     "metadata": {},
     "output_type": "execute_result"
    }
   ],
   "source": [
    "new_train.persist()"
   ]
  },
  {
   "cell_type": "markdown",
   "metadata": {},
   "source": [
    "### RandomForestClassifier performance testing using SMOTE train set."
   ]
  },
  {
   "cell_type": "code",
   "execution_count": 33,
   "metadata": {},
   "outputs": [],
   "source": [
    "#spark.conf.set(\"spark.sql.broadcastTimeout\", 5000)\n",
    "\n",
    "modeler = RandomForestClassifier(labelCol=\"label\", featuresCol=\"features\", numTrees = 8, maxDepth = 4)\n",
    "best_model = modeler.fit(train_set)\n",
    "#best_model.save(sc, 'best_rF_model')\n",
    "test_set1 = pipeline1.fit(test_set).transform(test_set)\n",
    "pred_results = best_model.transform(test_set1)"
   ]
  },
  {
   "cell_type": "code",
   "execution_count": 34,
   "metadata": {},
   "outputs": [
    {
     "name": "stdout",
     "output_type": "stream",
     "text": [
      "+-----+----------+\n",
      "|label|prediction|\n",
      "+-----+----------+\n",
      "|    0|       1.0|\n",
      "|    0|       1.0|\n",
      "|    0|       1.0|\n",
      "|    0|       1.0|\n",
      "|    0|       1.0|\n",
      "|    0|       1.0|\n",
      "|    0|       1.0|\n",
      "|    1|       1.0|\n",
      "+-----+----------+\n",
      "\n"
     ]
    }
   ],
   "source": [
    "pred_results.select(\"label\", \"prediction\").where(col('prediction') == 1).show()#print number of predictions of users as churn"
   ]
  },
  {
   "cell_type": "markdown",
   "metadata": {},
   "source": [
    "### DecisionTree performance testing using SMOTE train set."
   ]
  },
  {
   "cell_type": "code",
   "execution_count": 76,
   "metadata": {},
   "outputs": [],
   "source": [
    "Indexer1 = StringIndexer(inputCol = 'gender', outputCol = 'gender_indexed')\n",
    "\n",
    "#Assemble features into one \n",
    "assembler = VectorAssembler(inputCols=['length', 'likes', 'dislikes', 'friend_adds', 'playlist_adds', 'downgraded', 'upgraded',\\\n",
    "                                       'NumSongs', 'method_put', 'method_get', 'status_307', 'status_404',\\\n",
    "                                       'status_200', 'level_free', 'level_paid', 'gender_indexed'], outputCol=\"features\")\n",
    "#Apply pipeline of just indexer and assembler to prpare the test set\n",
    "pipeline1 = Pipeline(stages = [Indexer1, assembler])\n",
    "\n",
    "#Transform the test set\n",
    "test_set1 = pipeline1.fit(test_set).transform(test_set)"
   ]
  },
  {
   "cell_type": "code",
   "execution_count": 98,
   "metadata": {},
   "outputs": [
    {
     "data": {
      "text/plain": [
       "256"
      ]
     },
     "execution_count": 98,
     "metadata": {},
     "output_type": "execute_result"
    }
   ],
   "source": [
    "new_train.count()"
   ]
  },
  {
   "cell_type": "code",
   "execution_count": 77,
   "metadata": {},
   "outputs": [],
   "source": [
    "#Define modeling technique\n",
    "\n",
    "modeler = DecisionTreeClassifier(labelCol=\"label\", featuresCol=\"features\", maxBins = 32, maxDepth = 3)\n",
    "\n",
    "#Fit model to the new train set\n",
    "best_model2 = modeler.fit(new_train)\n",
    "\n",
    "pred_results1 = best_model2.transform(test_set1)#make predictions on the test_set"
   ]
  },
  {
   "cell_type": "code",
   "execution_count": 78,
   "metadata": {},
   "outputs": [
    {
     "name": "stdout",
     "output_type": "stream",
     "text": [
      "+-----+----------+\n",
      "|label|prediction|\n",
      "+-----+----------+\n",
      "|    0|       1.0|\n",
      "|    0|       1.0|\n",
      "|    0|       1.0|\n",
      "|    0|       1.0|\n",
      "|    0|       1.0|\n",
      "|    0|       1.0|\n",
      "|    0|       1.0|\n",
      "|    0|       1.0|\n",
      "|    0|       1.0|\n",
      "|    0|       1.0|\n",
      "|    0|       1.0|\n",
      "+-----+----------+\n",
      "\n"
     ]
    }
   ],
   "source": [
    "pred_results1.select(\"label\", \"prediction\").where(col('prediction') == 1).show()#print number of predictions of users as churn"
   ]
  },
  {
   "cell_type": "code",
   "execution_count": 126,
   "metadata": {},
   "outputs": [],
   "source": [
    "#Apply principal component analysis to reduce number of features to the most important features\n",
    "pca = PCA(k=10, inputCol=\"features\", outputCol=\"pcaFeatures\")\n",
    "\n",
    "#modeler = NaiveBayes(labelCol=\"label\", featuresCol=\"pcaFeatures\", weightCol = 'classWeights')\n",
    "#modeler = RandomForestClassifier(featuresCol = 'pcaFeatures')#RandomForest Classifier\n",
    "modeler = DecisionTreeClassifier(labelCol=\"label\", featuresCol=\"pcaFeatures\", maxDepth = 3, maxBins = 32)\n",
    "\n",
    "#Design a pipeline to run through all the modeling process\n",
    "pipeline2 = Pipeline(stages=[pca, modeler])\n",
    "\n",
    "#Fit model to the new train set\n",
    "newDT_mod = pipeline2.fit(new_train)\n",
    "\n",
    "pred_results2 = newDT_mod.transform(test_set1)#make predictions on the test_set"
   ]
  },
  {
   "cell_type": "code",
   "execution_count": 128,
   "metadata": {},
   "outputs": [
    {
     "name": "stdout",
     "output_type": "stream",
     "text": [
      "+-----+----------+\n",
      "|label|prediction|\n",
      "+-----+----------+\n",
      "|    1|       0.0|\n",
      "|    1|       0.0|\n",
      "|    1|       0.0|\n",
      "|    1|       0.0|\n",
      "|    1|       1.0|\n",
      "|    1|       0.0|\n",
      "|    1|       0.0|\n",
      "|    1|       1.0|\n",
      "|    1|       0.0|\n",
      "|    1|       0.0|\n",
      "+-----+----------+\n",
      "\n"
     ]
    }
   ],
   "source": [
    "#How much of the churn users predictions were accurate\n",
    "\n",
    "pred_results2.select(\"label\", \"prediction\").where(col('label') == 1).show()"
   ]
  },
  {
   "cell_type": "code",
   "execution_count": 129,
   "metadata": {},
   "outputs": [
    {
     "name": "stdout",
     "output_type": "stream",
     "text": [
      "The Accuracy of DecTree  is: 0.6981132075471698\n",
      "The Recall of DecTree  is: 0.2\n",
      "The F1-score of DecTree  is: 0.69811320754717\n"
     ]
    }
   ],
   "source": [
    "evaluate_model(newDT_mod, 'DecTree', test_set1, evaluator = MulticlassClassificationEvaluator())"
   ]
  },
  {
   "cell_type": "markdown",
   "metadata": {},
   "source": [
    "#### Grad Boosting Tree using SMOTE"
   ]
  },
  {
   "cell_type": "code",
   "execution_count": 130,
   "metadata": {},
   "outputs": [],
   "source": [
    "#Apply principal component analysis to reduce number of features to the most important features\n",
    "pca = PCA(k=10, inputCol=\"features\", outputCol=\"pcaFeatures\")\n",
    "\n",
    "#modeler = NaiveBayes(labelCol=\"label\", featuresCol=\"pcaFeatures\", weightCol = 'classWeights')\n",
    "#modeler = RandomForestClassifier(featuresCol = 'pcaFeatures')#RandomForest Classifier\n",
    "modeler = GBTClassifier(featuresCol = 'pcaFeatures', maxIter = 10, maxDepth = 4 )#DecTree Classifier\n",
    "\n",
    "#Design a pipeline to run through all the modeling process\n",
    "pipeline2 = Pipeline(stages=[pca, modeler])\n",
    "\n",
    "#Fit model to the new train set\n",
    "newDT_mod = pipeline2.fit(new_train)\n",
    "\n",
    "pred_results2 = newDT_mod.transform(test_set1)#make predictions on the test_set"
   ]
  },
  {
   "cell_type": "code",
   "execution_count": null,
   "metadata": {},
   "outputs": [],
   "source": []
  },
  {
   "cell_type": "code",
   "execution_count": 131,
   "metadata": {},
   "outputs": [
    {
     "name": "stdout",
     "output_type": "stream",
     "text": [
      "+-----+----------+\n",
      "|label|prediction|\n",
      "+-----+----------+\n",
      "|    1|       0.0|\n",
      "|    1|       1.0|\n",
      "|    1|       0.0|\n",
      "|    1|       1.0|\n",
      "|    1|       1.0|\n",
      "|    1|       0.0|\n",
      "|    1|       0.0|\n",
      "|    1|       1.0|\n",
      "|    1|       0.0|\n",
      "|    1|       1.0|\n",
      "+-----+----------+\n",
      "\n"
     ]
    }
   ],
   "source": [
    "#How much of the churn users predictions were accurate\n",
    "\n",
    "pred_results2.select(\"label\", \"prediction\").where(col('label') == 1).show()"
   ]
  },
  {
   "cell_type": "code",
   "execution_count": 132,
   "metadata": {},
   "outputs": [
    {
     "name": "stdout",
     "output_type": "stream",
     "text": [
      "The Accuracy of GradBoostTree  is: 0.6981132075471698\n",
      "The Recall of GradBoostTree  is: 0.5\n",
      "The F1-score of GradBoostTree  is: 0.7216255442670536\n"
     ]
    }
   ],
   "source": [
    "evaluate_model(newDT_mod, 'GradBoostTree', test_set1, evaluator = MulticlassClassificationEvaluator())"
   ]
  },
  {
   "cell_type": "markdown",
   "metadata": {},
   "source": [
    "### Conclusions and Doscussion:"
   ]
  },
  {
   "cell_type": "markdown",
   "metadata": {},
   "source": [
    "The project has availed the opportunity to understand the behaviour of users on Sparkify music streaming platform. Using machin\n",
    "lerning models such as RandomForestClassifier and DecisionTreeClassfier, the possible departure/cancelation of users who subsc-\n",
    "cribed to the platform can be predicted. The ability of the two to make predictions given the dataset used is hampered owing to\n",
    "the presence of a huge imbalance in the labels of the users. The dataset has predominantly users who have not cancelled in the\n",
    "ratio of 173/52. This makes prediction of possible churn harder. Nevertheless, DecsionTreeClassifier showed a better performance  with an F1-score of 0.76 against the RandomForestCalssifier with an F1-score of 0.73 and the baseline model using LogisticRegression which showed an F1-score of 0.72.\n",
    "\n",
    "Further steps to improve perfromance included having new feature such as logOuts added and length was changed from sum to average for each user, then using PCA to reduce feature to 10 most important (explaining more than 99.9% of the variance), the performance was significantly improved both in the results (metrics) and in speed of training the datset. This improved Decision Tree's F1 score from 76% to ~85% while recall increased from 20% to 40%. Further, attempt to improve the performance include testing another achine learning model - the Gradient Boosting Tree which saw a good F1 score of ~82% and a Recall of 60%. \n",
    "\n",
    "This improvement is good and leave my best model's predctions of possible churn to 60% -a value significant enough to not call it a guess work, considering the imbalance in the dataset.\n",
    "\n",
    "Becasue of this imbalance, an attempt to increase the number of churn users through SMOTE sampling was made, adapting a code from https://github.com/Angkirat/Smote-for-Spark/blob/master/PythonCode.py. However, this attempt did not yeild an imrovement in results."
   ]
  },
  {
   "cell_type": "markdown",
   "metadata": {},
   "source": [
    "### Recommendation:"
   ]
  },
  {
   "cell_type": "markdown",
   "metadata": {},
   "source": [
    "Further work should include testing other machine learning algorithms such as NaiveBayes. Also,  another attempt at augmenting the dataset by weighting the labels in order to give the churn users a higher weight than the non\n",
    "churn users could help mitigate the effect of the imbalance in the dataset. Finally, more features could still be engineered while still making use of PCA to reduce the number of features to at most 10."
   ]
  },
  {
   "cell_type": "markdown",
   "metadata": {},
   "source": [
    "### References:"
   ]
  },
  {
   "cell_type": "markdown",
   "metadata": {},
   "source": [
    "https://github.com/Angkirat/Smote-for-Spark/blob/master/PythonCode.py.\n",
    "    \n",
    "https://medium.com/@sajad1009/credit-card-fraud-detection-with-spark-and-python-high-accuracy-27a8ba8ed32\n",
    "    \n",
    "https://www.researchgate.net/post/How_to_determine_the_number_of_trees_to_be_generated_in_Random_Forest_algorithm"
   ]
  },
  {
   "cell_type": "code",
   "execution_count": null,
   "metadata": {},
   "outputs": [],
   "source": []
  },
  {
   "cell_type": "code",
   "execution_count": null,
   "metadata": {},
   "outputs": [],
   "source": []
  }
 ],
 "metadata": {
  "kernelspec": {
   "display_name": "Python 3",
   "language": "python",
   "name": "python3"
  },
  "language_info": {
   "codemirror_mode": {
    "name": "ipython",
    "version": 3
   },
   "file_extension": ".py",
   "mimetype": "text/x-python",
   "name": "python",
   "nbconvert_exporter": "python",
   "pygments_lexer": "ipython3",
   "version": "3.6.3"
  }
 },
 "nbformat": 4,
 "nbformat_minor": 2
}
